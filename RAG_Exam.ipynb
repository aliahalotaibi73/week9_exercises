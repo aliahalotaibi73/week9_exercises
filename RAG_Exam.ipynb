{
  "cells": [
    {
      "cell_type": "markdown",
      "metadata": {
        "id": "m83H0SRDK01q"
      },
      "source": [
        "# Traffic Violation RAG System\n",
        "In this exam, you will implement a Retrieval-Augmented Generation (RAG) system that uses a language model and a vector database to answer questions about traffic violations. The goal is to generate answers with relevant data based on a dataset of traffic violations and fines.\n",
        "\n",
        "Here are helpful resources:\n",
        "* [LangChain](https://www.langchain.com/)\n",
        "* [groq cloud documentation](https://console.groq.com/docs/models)\n",
        "* [LangChain HuggingFace](https://python.langchain.com/docs/integrations/text_embedding/sentence_transformers/)\n",
        "* [Chroma Vector Store](https://python.langchain.com/docs/integrations/vectorstores/chroma/)\n",
        "* [Chroma Website](https://docs.trychroma.com/getting-started)\n",
        "* [ChatGroq LangChain](https://python.langchain.com/docs/integrations/chat/groq/)\n",
        "* [LLM Chain](https://api.python.langchain.com/en/latest/chains/langchain.chains.llm.LLMChain.html#langchain.chains.llm.LLMChain)\n",
        "\n",
        "Dataset [source](https://www.moi.gov.sa/wps/portal/Home/sectors/publicsecurity/traffic/contents/!ut/p/z0/04_Sj9CPykssy0xPLMnMz0vMAfIjo8ziDTxNTDwMTYy83V0CTQ0cA71d_T1djI0MXA30gxOL9L30o_ArApqSmVVYGOWoH5Wcn1eSWlGiH1FSlJiWlpmsagBlKCQWqRrkJmbmqRqUZebngB2gUJAKdERJZmqxfkG2ezgAhzhSyw!!/)\n",
        "\n",
        "Some installs if needed:\n",
        "```python\n",
        "!pip install langchain_huggingface langchain langchain-community langchain_chroma Chroma langchain_groq LLMChain\n",
        "```"
      ]
    },
    {
      "cell_type": "code",
      "execution_count": 141,
      "metadata": {
        "id": "ATEQy3edrnCy",
        "outputId": "ab10f115-13c8-4c75-bee5-7916d582937f",
        "colab": {
          "base_uri": "https://localhost:8080/"
        }
      },
      "outputs": [
        {
          "output_type": "stream",
          "name": "stdout",
          "text": [
            "Warning: Looks like you're using an outdated API Version, please consider updating (server 1.6.17 / client 1.6.14)\n",
            "Dataset URL: https://www.kaggle.com/datasets/khaledzsa/dataset\n",
            "License(s): unknown\n",
            "dataset.zip: Skipping, found more recently modified local copy (use --force to force download)\n",
            "Archive:  dataset.zip\n",
            "replace Dataset.csv? [y]es, [n]o, [A]ll, [N]one, [r]ename: "
          ]
        }
      ],
      "source": [
        "!kaggle datasets download -d khaledzsa/dataset\n",
        "!unzip dataset.zip"
      ]
    },
    {
      "cell_type": "markdown",
      "metadata": {
        "id": "IKe3G7bqK-W6"
      },
      "source": [
        "## Step 1: Install Required Libraries"
      ]
    },
    {
      "cell_type": "markdown",
      "metadata": {
        "id": "ewOnaf7BLBQ8"
      },
      "source": [
        "To begin, install the necessary libraries for this project. The libraries include `LangChain` for building language model chains, and `Chroma` for managing a vector database."
      ]
    },
    {
      "cell_type": "code",
      "source": [
        "!pip install chromadb"
      ],
      "metadata": {
        "colab": {
          "base_uri": "https://localhost:8080/"
        },
        "collapsed": true,
        "id": "YV4SL6HY6fsG",
        "outputId": "85266e90-c302-4ca6-fad2-2df968ffdafd"
      },
      "execution_count": 142,
      "outputs": [
        {
          "output_type": "stream",
          "name": "stdout",
          "text": [
            "Requirement already satisfied: chromadb in /usr/local/lib/python3.10/dist-packages (0.5.7)\n",
            "Requirement already satisfied: build>=1.0.3 in /usr/local/lib/python3.10/dist-packages (from chromadb) (1.2.1)\n",
            "Requirement already satisfied: pydantic>=1.9 in /usr/local/lib/python3.10/dist-packages (from chromadb) (2.8.2)\n",
            "Requirement already satisfied: chroma-hnswlib==0.7.6 in /usr/local/lib/python3.10/dist-packages (from chromadb) (0.7.6)\n",
            "Requirement already satisfied: fastapi>=0.95.2 in /usr/local/lib/python3.10/dist-packages (from chromadb) (0.115.0)\n",
            "Requirement already satisfied: uvicorn>=0.18.3 in /usr/local/lib/python3.10/dist-packages (from uvicorn[standard]>=0.18.3->chromadb) (0.30.6)\n",
            "Requirement already satisfied: numpy>=1.22.5 in /usr/local/lib/python3.10/dist-packages (from chromadb) (1.25.2)\n",
            "Requirement already satisfied: posthog>=2.4.0 in /usr/local/lib/python3.10/dist-packages (from chromadb) (3.6.6)\n",
            "Requirement already satisfied: typing-extensions>=4.5.0 in /usr/local/lib/python3.10/dist-packages (from chromadb) (4.12.2)\n",
            "Requirement already satisfied: onnxruntime>=1.14.1 in /usr/local/lib/python3.10/dist-packages (from chromadb) (1.19.2)\n",
            "Requirement already satisfied: opentelemetry-api>=1.2.0 in /usr/local/lib/python3.10/dist-packages (from chromadb) (1.27.0)\n",
            "Requirement already satisfied: opentelemetry-exporter-otlp-proto-grpc>=1.2.0 in /usr/local/lib/python3.10/dist-packages (from chromadb) (1.27.0)\n",
            "Requirement already satisfied: opentelemetry-instrumentation-fastapi>=0.41b0 in /usr/local/lib/python3.10/dist-packages (from chromadb) (0.48b0)\n",
            "Requirement already satisfied: opentelemetry-sdk>=1.2.0 in /usr/local/lib/python3.10/dist-packages (from chromadb) (1.27.0)\n",
            "Requirement already satisfied: tokenizers>=0.13.2 in /usr/local/lib/python3.10/dist-packages (from chromadb) (0.19.1)\n",
            "Requirement already satisfied: pypika>=0.48.9 in /usr/local/lib/python3.10/dist-packages (from chromadb) (0.48.9)\n",
            "Requirement already satisfied: tqdm>=4.65.0 in /usr/local/lib/python3.10/dist-packages (from chromadb) (4.66.4)\n",
            "Requirement already satisfied: overrides>=7.3.1 in /usr/local/lib/python3.10/dist-packages (from chromadb) (7.7.0)\n",
            "Requirement already satisfied: importlib-resources in /usr/local/lib/python3.10/dist-packages (from chromadb) (6.4.0)\n",
            "Requirement already satisfied: grpcio>=1.58.0 in /usr/local/lib/python3.10/dist-packages (from chromadb) (1.64.1)\n",
            "Requirement already satisfied: bcrypt>=4.0.1 in /usr/local/lib/python3.10/dist-packages (from chromadb) (4.2.0)\n",
            "Requirement already satisfied: typer>=0.9.0 in /usr/local/lib/python3.10/dist-packages (from chromadb) (0.12.3)\n",
            "Requirement already satisfied: kubernetes>=28.1.0 in /usr/local/lib/python3.10/dist-packages (from chromadb) (30.1.0)\n",
            "Requirement already satisfied: tenacity>=8.2.3 in /usr/local/lib/python3.10/dist-packages (from chromadb) (8.5.0)\n",
            "Requirement already satisfied: PyYAML>=6.0.0 in /usr/local/lib/python3.10/dist-packages (from chromadb) (6.0.1)\n",
            "Requirement already satisfied: mmh3>=4.0.1 in /usr/local/lib/python3.10/dist-packages (from chromadb) (5.0.0)\n",
            "Requirement already satisfied: orjson>=3.9.12 in /usr/local/lib/python3.10/dist-packages (from chromadb) (3.10.7)\n",
            "Requirement already satisfied: httpx>=0.27.0 in /usr/local/lib/python3.10/dist-packages (from chromadb) (0.27.2)\n",
            "Requirement already satisfied: rich>=10.11.0 in /usr/local/lib/python3.10/dist-packages (from chromadb) (13.7.1)\n",
            "Requirement already satisfied: packaging>=19.1 in /usr/local/lib/python3.10/dist-packages (from build>=1.0.3->chromadb) (24.1)\n",
            "Requirement already satisfied: pyproject_hooks in /usr/local/lib/python3.10/dist-packages (from build>=1.0.3->chromadb) (1.1.0)\n",
            "Requirement already satisfied: tomli>=1.1.0 in /usr/local/lib/python3.10/dist-packages (from build>=1.0.3->chromadb) (2.0.1)\n",
            "Requirement already satisfied: starlette<0.39.0,>=0.37.2 in /usr/local/lib/python3.10/dist-packages (from fastapi>=0.95.2->chromadb) (0.38.5)\n",
            "Requirement already satisfied: anyio in /usr/local/lib/python3.10/dist-packages (from httpx>=0.27.0->chromadb) (3.7.1)\n",
            "Requirement already satisfied: certifi in /usr/local/lib/python3.10/dist-packages (from httpx>=0.27.0->chromadb) (2024.7.4)\n",
            "Requirement already satisfied: httpcore==1.* in /usr/local/lib/python3.10/dist-packages (from httpx>=0.27.0->chromadb) (1.0.5)\n",
            "Requirement already satisfied: idna in /usr/local/lib/python3.10/dist-packages (from httpx>=0.27.0->chromadb) (3.7)\n",
            "Requirement already satisfied: sniffio in /usr/local/lib/python3.10/dist-packages (from httpx>=0.27.0->chromadb) (1.3.1)\n",
            "Requirement already satisfied: h11<0.15,>=0.13 in /usr/local/lib/python3.10/dist-packages (from httpcore==1.*->httpx>=0.27.0->chromadb) (0.14.0)\n",
            "Requirement already satisfied: six>=1.9.0 in /usr/local/lib/python3.10/dist-packages (from kubernetes>=28.1.0->chromadb) (1.16.0)\n",
            "Requirement already satisfied: python-dateutil>=2.5.3 in /usr/local/lib/python3.10/dist-packages (from kubernetes>=28.1.0->chromadb) (2.8.2)\n",
            "Requirement already satisfied: google-auth>=1.0.1 in /usr/local/lib/python3.10/dist-packages (from kubernetes>=28.1.0->chromadb) (2.27.0)\n",
            "Requirement already satisfied: websocket-client!=0.40.0,!=0.41.*,!=0.42.*,>=0.32.0 in /usr/local/lib/python3.10/dist-packages (from kubernetes>=28.1.0->chromadb) (1.8.0)\n",
            "Requirement already satisfied: requests in /usr/local/lib/python3.10/dist-packages (from kubernetes>=28.1.0->chromadb) (2.31.0)\n",
            "Requirement already satisfied: requests-oauthlib in /usr/local/lib/python3.10/dist-packages (from kubernetes>=28.1.0->chromadb) (1.3.1)\n",
            "Requirement already satisfied: oauthlib>=3.2.2 in /usr/local/lib/python3.10/dist-packages (from kubernetes>=28.1.0->chromadb) (3.2.2)\n",
            "Requirement already satisfied: urllib3>=1.24.2 in /usr/local/lib/python3.10/dist-packages (from kubernetes>=28.1.0->chromadb) (2.0.7)\n",
            "Requirement already satisfied: coloredlogs in /usr/local/lib/python3.10/dist-packages (from onnxruntime>=1.14.1->chromadb) (15.0.1)\n",
            "Requirement already satisfied: flatbuffers in /usr/local/lib/python3.10/dist-packages (from onnxruntime>=1.14.1->chromadb) (24.3.25)\n",
            "Requirement already satisfied: protobuf in /usr/local/lib/python3.10/dist-packages (from onnxruntime>=1.14.1->chromadb) (3.20.3)\n",
            "Requirement already satisfied: sympy in /usr/local/lib/python3.10/dist-packages (from onnxruntime>=1.14.1->chromadb) (1.13.1)\n",
            "Requirement already satisfied: deprecated>=1.2.6 in /usr/local/lib/python3.10/dist-packages (from opentelemetry-api>=1.2.0->chromadb) (1.2.14)\n",
            "Requirement already satisfied: importlib-metadata<=8.4.0,>=6.0 in /usr/local/lib/python3.10/dist-packages (from opentelemetry-api>=1.2.0->chromadb) (8.0.0)\n",
            "Requirement already satisfied: googleapis-common-protos~=1.52 in /usr/local/lib/python3.10/dist-packages (from opentelemetry-exporter-otlp-proto-grpc>=1.2.0->chromadb) (1.63.2)\n",
            "Requirement already satisfied: opentelemetry-exporter-otlp-proto-common==1.27.0 in /usr/local/lib/python3.10/dist-packages (from opentelemetry-exporter-otlp-proto-grpc>=1.2.0->chromadb) (1.27.0)\n",
            "Requirement already satisfied: opentelemetry-proto==1.27.0 in /usr/local/lib/python3.10/dist-packages (from opentelemetry-exporter-otlp-proto-grpc>=1.2.0->chromadb) (1.27.0)\n",
            "Requirement already satisfied: opentelemetry-instrumentation-asgi==0.48b0 in /usr/local/lib/python3.10/dist-packages (from opentelemetry-instrumentation-fastapi>=0.41b0->chromadb) (0.48b0)\n",
            "Requirement already satisfied: opentelemetry-instrumentation==0.48b0 in /usr/local/lib/python3.10/dist-packages (from opentelemetry-instrumentation-fastapi>=0.41b0->chromadb) (0.48b0)\n",
            "Requirement already satisfied: opentelemetry-semantic-conventions==0.48b0 in /usr/local/lib/python3.10/dist-packages (from opentelemetry-instrumentation-fastapi>=0.41b0->chromadb) (0.48b0)\n",
            "Requirement already satisfied: opentelemetry-util-http==0.48b0 in /usr/local/lib/python3.10/dist-packages (from opentelemetry-instrumentation-fastapi>=0.41b0->chromadb) (0.48b0)\n",
            "Requirement already satisfied: setuptools>=16.0 in /usr/local/lib/python3.10/dist-packages (from opentelemetry-instrumentation==0.48b0->opentelemetry-instrumentation-fastapi>=0.41b0->chromadb) (71.0.4)\n",
            "Requirement already satisfied: wrapt<2.0.0,>=1.0.0 in /usr/local/lib/python3.10/dist-packages (from opentelemetry-instrumentation==0.48b0->opentelemetry-instrumentation-fastapi>=0.41b0->chromadb) (1.14.1)\n",
            "Requirement already satisfied: asgiref~=3.0 in /usr/local/lib/python3.10/dist-packages (from opentelemetry-instrumentation-asgi==0.48b0->opentelemetry-instrumentation-fastapi>=0.41b0->chromadb) (3.8.1)\n",
            "Requirement already satisfied: monotonic>=1.5 in /usr/local/lib/python3.10/dist-packages (from posthog>=2.4.0->chromadb) (1.6)\n",
            "Requirement already satisfied: backoff>=1.10.0 in /usr/local/lib/python3.10/dist-packages (from posthog>=2.4.0->chromadb) (2.2.1)\n",
            "Requirement already satisfied: annotated-types>=0.4.0 in /usr/local/lib/python3.10/dist-packages (from pydantic>=1.9->chromadb) (0.7.0)\n",
            "Requirement already satisfied: pydantic-core==2.20.1 in /usr/local/lib/python3.10/dist-packages (from pydantic>=1.9->chromadb) (2.20.1)\n",
            "Requirement already satisfied: markdown-it-py>=2.2.0 in /usr/local/lib/python3.10/dist-packages (from rich>=10.11.0->chromadb) (3.0.0)\n",
            "Requirement already satisfied: pygments<3.0.0,>=2.13.0 in /usr/local/lib/python3.10/dist-packages (from rich>=10.11.0->chromadb) (2.16.1)\n",
            "Requirement already satisfied: huggingface-hub<1.0,>=0.16.4 in /usr/local/lib/python3.10/dist-packages (from tokenizers>=0.13.2->chromadb) (0.23.5)\n",
            "Requirement already satisfied: click>=8.0.0 in /usr/local/lib/python3.10/dist-packages (from typer>=0.9.0->chromadb) (8.1.7)\n",
            "Requirement already satisfied: shellingham>=1.3.0 in /usr/local/lib/python3.10/dist-packages (from typer>=0.9.0->chromadb) (1.5.4)\n",
            "Requirement already satisfied: httptools>=0.5.0 in /usr/local/lib/python3.10/dist-packages (from uvicorn[standard]>=0.18.3->chromadb) (0.6.1)\n",
            "Requirement already satisfied: python-dotenv>=0.13 in /usr/local/lib/python3.10/dist-packages (from uvicorn[standard]>=0.18.3->chromadb) (1.0.1)\n",
            "Requirement already satisfied: uvloop!=0.15.0,!=0.15.1,>=0.14.0 in /usr/local/lib/python3.10/dist-packages (from uvicorn[standard]>=0.18.3->chromadb) (0.20.0)\n",
            "Requirement already satisfied: watchfiles>=0.13 in /usr/local/lib/python3.10/dist-packages (from uvicorn[standard]>=0.18.3->chromadb) (0.24.0)\n",
            "Requirement already satisfied: websockets>=10.4 in /usr/local/lib/python3.10/dist-packages (from uvicorn[standard]>=0.18.3->chromadb) (13.0.1)\n",
            "Requirement already satisfied: cachetools<6.0,>=2.0.0 in /usr/local/lib/python3.10/dist-packages (from google-auth>=1.0.1->kubernetes>=28.1.0->chromadb) (5.4.0)\n",
            "Requirement already satisfied: pyasn1-modules>=0.2.1 in /usr/local/lib/python3.10/dist-packages (from google-auth>=1.0.1->kubernetes>=28.1.0->chromadb) (0.4.0)\n",
            "Requirement already satisfied: rsa<5,>=3.1.4 in /usr/local/lib/python3.10/dist-packages (from google-auth>=1.0.1->kubernetes>=28.1.0->chromadb) (4.9)\n",
            "Requirement already satisfied: filelock in /usr/local/lib/python3.10/dist-packages (from huggingface-hub<1.0,>=0.16.4->tokenizers>=0.13.2->chromadb) (3.15.4)\n",
            "Requirement already satisfied: fsspec>=2023.5.0 in /usr/local/lib/python3.10/dist-packages (from huggingface-hub<1.0,>=0.16.4->tokenizers>=0.13.2->chromadb) (2023.6.0)\n",
            "Requirement already satisfied: zipp>=0.5 in /usr/local/lib/python3.10/dist-packages (from importlib-metadata<=8.4.0,>=6.0->opentelemetry-api>=1.2.0->chromadb) (3.19.2)\n",
            "Requirement already satisfied: mdurl~=0.1 in /usr/local/lib/python3.10/dist-packages (from markdown-it-py>=2.2.0->rich>=10.11.0->chromadb) (0.1.2)\n",
            "Requirement already satisfied: charset-normalizer<4,>=2 in /usr/local/lib/python3.10/dist-packages (from requests->kubernetes>=28.1.0->chromadb) (3.3.2)\n",
            "Requirement already satisfied: exceptiongroup in /usr/local/lib/python3.10/dist-packages (from anyio->httpx>=0.27.0->chromadb) (1.2.2)\n",
            "Requirement already satisfied: humanfriendly>=9.1 in /usr/local/lib/python3.10/dist-packages (from coloredlogs->onnxruntime>=1.14.1->chromadb) (10.0)\n",
            "Requirement already satisfied: mpmath<1.4,>=1.1.0 in /usr/local/lib/python3.10/dist-packages (from sympy->onnxruntime>=1.14.1->chromadb) (1.3.0)\n",
            "Requirement already satisfied: pyasn1<0.7.0,>=0.4.6 in /usr/local/lib/python3.10/dist-packages (from pyasn1-modules>=0.2.1->google-auth>=1.0.1->kubernetes>=28.1.0->chromadb) (0.6.0)\n",
            "\u001b[31mERROR: Operation cancelled by user\u001b[0m\u001b[31m\n",
            "\u001b[0m"
          ]
        }
      ]
    },
    {
      "cell_type": "code",
      "source": [
        "!pip install langchain_huggingface langchain langchain-community langchain_chroma Chroma langchain_groq LLMChain"
      ],
      "metadata": {
        "collapsed": true,
        "id": "0aJJkGensHCd",
        "outputId": "4a9f0ecb-7898-442a-c7bf-2d1ac62cfcb0",
        "colab": {
          "base_uri": "https://localhost:8080/"
        }
      },
      "execution_count": 143,
      "outputs": [
        {
          "output_type": "stream",
          "name": "stdout",
          "text": [
            "Collecting langchain_huggingface\n",
            "  Using cached langchain_huggingface-0.1.0-py3-none-any.whl.metadata (1.3 kB)\n",
            "Requirement already satisfied: langchain in /usr/local/lib/python3.10/dist-packages (0.3.0)\n",
            "Requirement already satisfied: langchain-community in /usr/local/lib/python3.10/dist-packages (0.3.0)\n",
            "Collecting langchain_chroma\n",
            "  Using cached langchain_chroma-0.1.4-py3-none-any.whl.metadata (1.6 kB)\n",
            "Collecting Chroma\n",
            "  Using cached Chroma-0.2.0.tar.gz (5.8 kB)\n",
            "  Preparing metadata (setup.py) ... \u001b[?25l\u001b[?25hdone\n",
            "Requirement already satisfied: langchain_groq in /usr/local/lib/python3.10/dist-packages (0.2.0)\n",
            "\u001b[31mERROR: Could not find a version that satisfies the requirement LLMChain (from versions: none)\u001b[0m\u001b[31m\n",
            "\u001b[0m\u001b[31mERROR: No matching distribution found for LLMChain\u001b[0m\u001b[31m\n",
            "\u001b[0m"
          ]
        }
      ]
    },
    {
      "cell_type": "code",
      "source": [
        "!pip install sentence-transformers"
      ],
      "metadata": {
        "colab": {
          "base_uri": "https://localhost:8080/"
        },
        "collapsed": true,
        "id": "C1VKOmuT4KrM",
        "outputId": "e3aaccea-5858-4690-99a0-3db47b0f6906"
      },
      "execution_count": 144,
      "outputs": [
        {
          "output_type": "stream",
          "name": "stdout",
          "text": [
            "Requirement already satisfied: sentence-transformers in /usr/local/lib/python3.10/dist-packages (3.1.0)\n",
            "Requirement already satisfied: transformers<5.0.0,>=4.38.0 in /usr/local/lib/python3.10/dist-packages (from sentence-transformers) (4.42.4)\n",
            "Requirement already satisfied: tqdm in /usr/local/lib/python3.10/dist-packages (from sentence-transformers) (4.66.4)\n",
            "Requirement already satisfied: torch>=1.11.0 in /usr/local/lib/python3.10/dist-packages (from sentence-transformers) (2.3.1+cu121)\n",
            "Requirement already satisfied: numpy<2.0.0 in /usr/local/lib/python3.10/dist-packages (from sentence-transformers) (1.25.2)\n",
            "Requirement already satisfied: scikit-learn in /usr/local/lib/python3.10/dist-packages (from sentence-transformers) (1.2.2)\n",
            "Requirement already satisfied: scipy in /usr/local/lib/python3.10/dist-packages (from sentence-transformers) (1.11.4)\n",
            "Requirement already satisfied: huggingface-hub>=0.19.3 in /usr/local/lib/python3.10/dist-packages (from sentence-transformers) (0.23.5)\n",
            "Requirement already satisfied: Pillow in /usr/local/lib/python3.10/dist-packages (from sentence-transformers) (9.4.0)\n",
            "Requirement already satisfied: filelock in /usr/local/lib/python3.10/dist-packages (from huggingface-hub>=0.19.3->sentence-transformers) (3.15.4)\n",
            "Requirement already satisfied: fsspec>=2023.5.0 in /usr/local/lib/python3.10/dist-packages (from huggingface-hub>=0.19.3->sentence-transformers) (2023.6.0)\n",
            "Requirement already satisfied: packaging>=20.9 in /usr/local/lib/python3.10/dist-packages (from huggingface-hub>=0.19.3->sentence-transformers) (24.1)\n",
            "Requirement already satisfied: pyyaml>=5.1 in /usr/local/lib/python3.10/dist-packages (from huggingface-hub>=0.19.3->sentence-transformers) (6.0.1)\n",
            "Requirement already satisfied: requests in /usr/local/lib/python3.10/dist-packages (from huggingface-hub>=0.19.3->sentence-transformers) (2.31.0)\n",
            "Requirement already satisfied: typing-extensions>=3.7.4.3 in /usr/local/lib/python3.10/dist-packages (from huggingface-hub>=0.19.3->sentence-transformers) (4.12.2)\n",
            "Requirement already satisfied: sympy in /usr/local/lib/python3.10/dist-packages (from torch>=1.11.0->sentence-transformers) (1.13.1)\n",
            "Requirement already satisfied: networkx in /usr/local/lib/python3.10/dist-packages (from torch>=1.11.0->sentence-transformers) (3.3)\n",
            "Requirement already satisfied: jinja2 in /usr/local/lib/python3.10/dist-packages (from torch>=1.11.0->sentence-transformers) (3.1.4)\n",
            "Requirement already satisfied: nvidia-cuda-nvrtc-cu12==12.1.105 in /usr/local/lib/python3.10/dist-packages (from torch>=1.11.0->sentence-transformers) (12.1.105)\n",
            "Requirement already satisfied: nvidia-cuda-runtime-cu12==12.1.105 in /usr/local/lib/python3.10/dist-packages (from torch>=1.11.0->sentence-transformers) (12.1.105)\n",
            "Requirement already satisfied: nvidia-cuda-cupti-cu12==12.1.105 in /usr/local/lib/python3.10/dist-packages (from torch>=1.11.0->sentence-transformers) (12.1.105)\n",
            "Requirement already satisfied: nvidia-cudnn-cu12==8.9.2.26 in /usr/local/lib/python3.10/dist-packages (from torch>=1.11.0->sentence-transformers) (8.9.2.26)\n",
            "Requirement already satisfied: nvidia-cublas-cu12==12.1.3.1 in /usr/local/lib/python3.10/dist-packages (from torch>=1.11.0->sentence-transformers) (12.1.3.1)\n",
            "Requirement already satisfied: nvidia-cufft-cu12==11.0.2.54 in /usr/local/lib/python3.10/dist-packages (from torch>=1.11.0->sentence-transformers) (11.0.2.54)\n",
            "Requirement already satisfied: nvidia-curand-cu12==10.3.2.106 in /usr/local/lib/python3.10/dist-packages (from torch>=1.11.0->sentence-transformers) (10.3.2.106)\n",
            "Requirement already satisfied: nvidia-cusolver-cu12==11.4.5.107 in /usr/local/lib/python3.10/dist-packages (from torch>=1.11.0->sentence-transformers) (11.4.5.107)\n",
            "Requirement already satisfied: nvidia-cusparse-cu12==12.1.0.106 in /usr/local/lib/python3.10/dist-packages (from torch>=1.11.0->sentence-transformers) (12.1.0.106)\n",
            "Requirement already satisfied: nvidia-nccl-cu12==2.20.5 in /usr/local/lib/python3.10/dist-packages (from torch>=1.11.0->sentence-transformers) (2.20.5)\n",
            "Requirement already satisfied: nvidia-nvtx-cu12==12.1.105 in /usr/local/lib/python3.10/dist-packages (from torch>=1.11.0->sentence-transformers) (12.1.105)\n",
            "Requirement already satisfied: triton==2.3.1 in /usr/local/lib/python3.10/dist-packages (from torch>=1.11.0->sentence-transformers) (2.3.1)\n",
            "Requirement already satisfied: nvidia-nvjitlink-cu12 in /usr/local/lib/python3.10/dist-packages (from nvidia-cusolver-cu12==11.4.5.107->torch>=1.11.0->sentence-transformers) (12.6.68)\n",
            "Requirement already satisfied: regex!=2019.12.17 in /usr/local/lib/python3.10/dist-packages (from transformers<5.0.0,>=4.38.0->sentence-transformers) (2024.5.15)\n",
            "Requirement already satisfied: safetensors>=0.4.1 in /usr/local/lib/python3.10/dist-packages (from transformers<5.0.0,>=4.38.0->sentence-transformers) (0.4.3)\n",
            "Requirement already satisfied: tokenizers<0.20,>=0.19 in /usr/local/lib/python3.10/dist-packages (from transformers<5.0.0,>=4.38.0->sentence-transformers) (0.19.1)\n",
            "Requirement already satisfied: joblib>=1.1.1 in /usr/local/lib/python3.10/dist-packages (from scikit-learn->sentence-transformers) (1.4.2)\n",
            "Requirement already satisfied: threadpoolctl>=2.0.0 in /usr/local/lib/python3.10/dist-packages (from scikit-learn->sentence-transformers) (3.5.0)\n",
            "Requirement already satisfied: MarkupSafe>=2.0 in /usr/local/lib/python3.10/dist-packages (from jinja2->torch>=1.11.0->sentence-transformers) (2.1.5)\n",
            "Requirement already satisfied: charset-normalizer<4,>=2 in /usr/local/lib/python3.10/dist-packages (from requests->huggingface-hub>=0.19.3->sentence-transformers) (3.3.2)\n",
            "Requirement already satisfied: idna<4,>=2.5 in /usr/local/lib/python3.10/dist-packages (from requests->huggingface-hub>=0.19.3->sentence-transformers) (3.7)\n",
            "Requirement already satisfied: urllib3<3,>=1.21.1 in /usr/local/lib/python3.10/dist-packages (from requests->huggingface-hub>=0.19.3->sentence-transformers) (2.0.7)\n",
            "Requirement already satisfied: certifi>=2017.4.17 in /usr/local/lib/python3.10/dist-packages (from requests->huggingface-hub>=0.19.3->sentence-transformers) (2024.7.4)\n",
            "Requirement already satisfied: mpmath<1.4,>=1.1.0 in /usr/local/lib/python3.10/dist-packages (from sympy->torch>=1.11.0->sentence-transformers) (1.3.0)\n"
          ]
        }
      ]
    },
    {
      "cell_type": "code",
      "source": [
        "%pip install -qU langchain-experimental"
      ],
      "metadata": {
        "collapsed": true,
        "id": "5VxFAbBn0EgA"
      },
      "execution_count": 145,
      "outputs": []
    },
    {
      "cell_type": "code",
      "source": [
        "import os\n",
        "import pandas as pd\n",
        "from langchain.text_splitter import RecursiveCharacterTextSplitter\n",
        "from langchain.prompts import PromptTemplate\n",
        "from langchain_community.document_loaders import DirectoryLoader\n",
        "from langchain_community.vectorstores import Chroma\n",
        "from langchain_community.embeddings.sentence_transformer import (\n",
        "    SentenceTransformerEmbeddings,\n",
        ")\n",
        "import markdown\n",
        "from langchain_groq import ChatGroq\n",
        "from langchain.chains import LLMChain"
      ],
      "metadata": {
        "id": "0FU0m-rwslhy"
      },
      "execution_count": 160,
      "outputs": []
    },
    {
      "cell_type": "markdown",
      "metadata": {
        "id": "QI7_KEjILJZ8"
      },
      "source": [
        "# Step 2: Load the Traffic Violations Dataset"
      ]
    },
    {
      "cell_type": "markdown",
      "metadata": {
        "id": "FY6U8FxlLLON"
      },
      "source": [
        "You are provided with a dataset of traffic violations. Load the CSV file into a pandas DataFrame and preview the first few rows of the dataset using `.head()`. You can also try and see the dataset's characteristics."
      ]
    },
    {
      "cell_type": "code",
      "execution_count": 147,
      "metadata": {
        "colab": {
          "base_uri": "https://localhost:8080/",
          "height": 206
        },
        "id": "PzTMfTyJ_tZG",
        "outputId": "b5665382-2ef1-41ee-e961-038123c2fb63"
      },
      "outputs": [
        {
          "output_type": "execute_result",
          "data": {
            "text/plain": [
              "                                            المخالفة  \\\n",
              "0  قيادة المركبة في الأسواق التي لا يسمح بالقيادة...   \n",
              "1   ترك المركبة مفتوحة وفي وضع التشغيل بعد مغادرتها.   \n",
              "2                       عدم وجود تأمين ساري للمركبة.   \n",
              "3      عبور المشاة للطرق من غير الأماكن المخصصة لهم.   \n",
              "4              عدم تقيد المشاة بالإشارات الخاصة بهم.   \n",
              "\n",
              "                          الغرامة  \n",
              "0  الغرامة المالية 100 - 150 ريال  \n",
              "1  الغرامة المالية 100 - 150 ريال  \n",
              "2  الغرامة المالية 100 - 150 ريال  \n",
              "3  الغرامة المالية 100 - 150 ريال  \n",
              "4  الغرامة المالية 100 - 150 ريال  "
            ],
            "text/html": [
              "\n",
              "  <div id=\"df-a5ad94f4-7b35-4f6b-a928-816fc193bd60\" class=\"colab-df-container\">\n",
              "    <div>\n",
              "<style scoped>\n",
              "    .dataframe tbody tr th:only-of-type {\n",
              "        vertical-align: middle;\n",
              "    }\n",
              "\n",
              "    .dataframe tbody tr th {\n",
              "        vertical-align: top;\n",
              "    }\n",
              "\n",
              "    .dataframe thead th {\n",
              "        text-align: right;\n",
              "    }\n",
              "</style>\n",
              "<table border=\"1\" class=\"dataframe\">\n",
              "  <thead>\n",
              "    <tr style=\"text-align: right;\">\n",
              "      <th></th>\n",
              "      <th>المخالفة</th>\n",
              "      <th>الغرامة</th>\n",
              "    </tr>\n",
              "  </thead>\n",
              "  <tbody>\n",
              "    <tr>\n",
              "      <th>0</th>\n",
              "      <td>قيادة المركبة في الأسواق التي لا يسمح بالقيادة...</td>\n",
              "      <td>الغرامة المالية 100 - 150 ريال</td>\n",
              "    </tr>\n",
              "    <tr>\n",
              "      <th>1</th>\n",
              "      <td>ترك المركبة مفتوحة وفي وضع التشغيل بعد مغادرتها.</td>\n",
              "      <td>الغرامة المالية 100 - 150 ريال</td>\n",
              "    </tr>\n",
              "    <tr>\n",
              "      <th>2</th>\n",
              "      <td>عدم وجود تأمين ساري للمركبة.</td>\n",
              "      <td>الغرامة المالية 100 - 150 ريال</td>\n",
              "    </tr>\n",
              "    <tr>\n",
              "      <th>3</th>\n",
              "      <td>عبور المشاة للطرق من غير الأماكن المخصصة لهم.</td>\n",
              "      <td>الغرامة المالية 100 - 150 ريال</td>\n",
              "    </tr>\n",
              "    <tr>\n",
              "      <th>4</th>\n",
              "      <td>عدم تقيد المشاة بالإشارات الخاصة بهم.</td>\n",
              "      <td>الغرامة المالية 100 - 150 ريال</td>\n",
              "    </tr>\n",
              "  </tbody>\n",
              "</table>\n",
              "</div>\n",
              "    <div class=\"colab-df-buttons\">\n",
              "\n",
              "  <div class=\"colab-df-container\">\n",
              "    <button class=\"colab-df-convert\" onclick=\"convertToInteractive('df-a5ad94f4-7b35-4f6b-a928-816fc193bd60')\"\n",
              "            title=\"Convert this dataframe to an interactive table.\"\n",
              "            style=\"display:none;\">\n",
              "\n",
              "  <svg xmlns=\"http://www.w3.org/2000/svg\" height=\"24px\" viewBox=\"0 -960 960 960\">\n",
              "    <path d=\"M120-120v-720h720v720H120Zm60-500h600v-160H180v160Zm220 220h160v-160H400v160Zm0 220h160v-160H400v160ZM180-400h160v-160H180v160Zm440 0h160v-160H620v160ZM180-180h160v-160H180v160Zm440 0h160v-160H620v160Z\"/>\n",
              "  </svg>\n",
              "    </button>\n",
              "\n",
              "  <style>\n",
              "    .colab-df-container {\n",
              "      display:flex;\n",
              "      gap: 12px;\n",
              "    }\n",
              "\n",
              "    .colab-df-convert {\n",
              "      background-color: #E8F0FE;\n",
              "      border: none;\n",
              "      border-radius: 50%;\n",
              "      cursor: pointer;\n",
              "      display: none;\n",
              "      fill: #1967D2;\n",
              "      height: 32px;\n",
              "      padding: 0 0 0 0;\n",
              "      width: 32px;\n",
              "    }\n",
              "\n",
              "    .colab-df-convert:hover {\n",
              "      background-color: #E2EBFA;\n",
              "      box-shadow: 0px 1px 2px rgba(60, 64, 67, 0.3), 0px 1px 3px 1px rgba(60, 64, 67, 0.15);\n",
              "      fill: #174EA6;\n",
              "    }\n",
              "\n",
              "    .colab-df-buttons div {\n",
              "      margin-bottom: 4px;\n",
              "    }\n",
              "\n",
              "    [theme=dark] .colab-df-convert {\n",
              "      background-color: #3B4455;\n",
              "      fill: #D2E3FC;\n",
              "    }\n",
              "\n",
              "    [theme=dark] .colab-df-convert:hover {\n",
              "      background-color: #434B5C;\n",
              "      box-shadow: 0px 1px 3px 1px rgba(0, 0, 0, 0.15);\n",
              "      filter: drop-shadow(0px 1px 2px rgba(0, 0, 0, 0.3));\n",
              "      fill: #FFFFFF;\n",
              "    }\n",
              "  </style>\n",
              "\n",
              "    <script>\n",
              "      const buttonEl =\n",
              "        document.querySelector('#df-a5ad94f4-7b35-4f6b-a928-816fc193bd60 button.colab-df-convert');\n",
              "      buttonEl.style.display =\n",
              "        google.colab.kernel.accessAllowed ? 'block' : 'none';\n",
              "\n",
              "      async function convertToInteractive(key) {\n",
              "        const element = document.querySelector('#df-a5ad94f4-7b35-4f6b-a928-816fc193bd60');\n",
              "        const dataTable =\n",
              "          await google.colab.kernel.invokeFunction('convertToInteractive',\n",
              "                                                    [key], {});\n",
              "        if (!dataTable) return;\n",
              "\n",
              "        const docLinkHtml = 'Like what you see? Visit the ' +\n",
              "          '<a target=\"_blank\" href=https://colab.research.google.com/notebooks/data_table.ipynb>data table notebook</a>'\n",
              "          + ' to learn more about interactive tables.';\n",
              "        element.innerHTML = '';\n",
              "        dataTable['output_type'] = 'display_data';\n",
              "        await google.colab.output.renderOutput(dataTable, element);\n",
              "        const docLink = document.createElement('div');\n",
              "        docLink.innerHTML = docLinkHtml;\n",
              "        element.appendChild(docLink);\n",
              "      }\n",
              "    </script>\n",
              "  </div>\n",
              "\n",
              "\n",
              "<div id=\"df-b8b6f98d-563a-438e-b9e7-d671e3ab7c7e\">\n",
              "  <button class=\"colab-df-quickchart\" onclick=\"quickchart('df-b8b6f98d-563a-438e-b9e7-d671e3ab7c7e')\"\n",
              "            title=\"Suggest charts\"\n",
              "            style=\"display:none;\">\n",
              "\n",
              "<svg xmlns=\"http://www.w3.org/2000/svg\" height=\"24px\"viewBox=\"0 0 24 24\"\n",
              "     width=\"24px\">\n",
              "    <g>\n",
              "        <path d=\"M19 3H5c-1.1 0-2 .9-2 2v14c0 1.1.9 2 2 2h14c1.1 0 2-.9 2-2V5c0-1.1-.9-2-2-2zM9 17H7v-7h2v7zm4 0h-2V7h2v10zm4 0h-2v-4h2v4z\"/>\n",
              "    </g>\n",
              "</svg>\n",
              "  </button>\n",
              "\n",
              "<style>\n",
              "  .colab-df-quickchart {\n",
              "      --bg-color: #E8F0FE;\n",
              "      --fill-color: #1967D2;\n",
              "      --hover-bg-color: #E2EBFA;\n",
              "      --hover-fill-color: #174EA6;\n",
              "      --disabled-fill-color: #AAA;\n",
              "      --disabled-bg-color: #DDD;\n",
              "  }\n",
              "\n",
              "  [theme=dark] .colab-df-quickchart {\n",
              "      --bg-color: #3B4455;\n",
              "      --fill-color: #D2E3FC;\n",
              "      --hover-bg-color: #434B5C;\n",
              "      --hover-fill-color: #FFFFFF;\n",
              "      --disabled-bg-color: #3B4455;\n",
              "      --disabled-fill-color: #666;\n",
              "  }\n",
              "\n",
              "  .colab-df-quickchart {\n",
              "    background-color: var(--bg-color);\n",
              "    border: none;\n",
              "    border-radius: 50%;\n",
              "    cursor: pointer;\n",
              "    display: none;\n",
              "    fill: var(--fill-color);\n",
              "    height: 32px;\n",
              "    padding: 0;\n",
              "    width: 32px;\n",
              "  }\n",
              "\n",
              "  .colab-df-quickchart:hover {\n",
              "    background-color: var(--hover-bg-color);\n",
              "    box-shadow: 0 1px 2px rgba(60, 64, 67, 0.3), 0 1px 3px 1px rgba(60, 64, 67, 0.15);\n",
              "    fill: var(--button-hover-fill-color);\n",
              "  }\n",
              "\n",
              "  .colab-df-quickchart-complete:disabled,\n",
              "  .colab-df-quickchart-complete:disabled:hover {\n",
              "    background-color: var(--disabled-bg-color);\n",
              "    fill: var(--disabled-fill-color);\n",
              "    box-shadow: none;\n",
              "  }\n",
              "\n",
              "  .colab-df-spinner {\n",
              "    border: 2px solid var(--fill-color);\n",
              "    border-color: transparent;\n",
              "    border-bottom-color: var(--fill-color);\n",
              "    animation:\n",
              "      spin 1s steps(1) infinite;\n",
              "  }\n",
              "\n",
              "  @keyframes spin {\n",
              "    0% {\n",
              "      border-color: transparent;\n",
              "      border-bottom-color: var(--fill-color);\n",
              "      border-left-color: var(--fill-color);\n",
              "    }\n",
              "    20% {\n",
              "      border-color: transparent;\n",
              "      border-left-color: var(--fill-color);\n",
              "      border-top-color: var(--fill-color);\n",
              "    }\n",
              "    30% {\n",
              "      border-color: transparent;\n",
              "      border-left-color: var(--fill-color);\n",
              "      border-top-color: var(--fill-color);\n",
              "      border-right-color: var(--fill-color);\n",
              "    }\n",
              "    40% {\n",
              "      border-color: transparent;\n",
              "      border-right-color: var(--fill-color);\n",
              "      border-top-color: var(--fill-color);\n",
              "    }\n",
              "    60% {\n",
              "      border-color: transparent;\n",
              "      border-right-color: var(--fill-color);\n",
              "    }\n",
              "    80% {\n",
              "      border-color: transparent;\n",
              "      border-right-color: var(--fill-color);\n",
              "      border-bottom-color: var(--fill-color);\n",
              "    }\n",
              "    90% {\n",
              "      border-color: transparent;\n",
              "      border-bottom-color: var(--fill-color);\n",
              "    }\n",
              "  }\n",
              "</style>\n",
              "\n",
              "  <script>\n",
              "    async function quickchart(key) {\n",
              "      const quickchartButtonEl =\n",
              "        document.querySelector('#' + key + ' button');\n",
              "      quickchartButtonEl.disabled = true;  // To prevent multiple clicks.\n",
              "      quickchartButtonEl.classList.add('colab-df-spinner');\n",
              "      try {\n",
              "        const charts = await google.colab.kernel.invokeFunction(\n",
              "            'suggestCharts', [key], {});\n",
              "      } catch (error) {\n",
              "        console.error('Error during call to suggestCharts:', error);\n",
              "      }\n",
              "      quickchartButtonEl.classList.remove('colab-df-spinner');\n",
              "      quickchartButtonEl.classList.add('colab-df-quickchart-complete');\n",
              "    }\n",
              "    (() => {\n",
              "      let quickchartButtonEl =\n",
              "        document.querySelector('#df-b8b6f98d-563a-438e-b9e7-d671e3ab7c7e button');\n",
              "      quickchartButtonEl.style.display =\n",
              "        google.colab.kernel.accessAllowed ? 'block' : 'none';\n",
              "    })();\n",
              "  </script>\n",
              "</div>\n",
              "\n",
              "    </div>\n",
              "  </div>\n"
            ],
            "application/vnd.google.colaboratory.intrinsic+json": {
              "type": "dataframe",
              "variable_name": "df",
              "summary": "{\n  \"name\": \"df\",\n  \"rows\": 104,\n  \"fields\": [\n    {\n      \"column\": \"\\u0627\\u0644\\u0645\\u062e\\u0627\\u0644\\u0641\\u0629\",\n      \"properties\": {\n        \"dtype\": \"string\",\n        \"num_unique_values\": 104,\n        \"samples\": [\n          \"\\u0627\\u0644\\u0642\\u064a\\u0627\\u062f\\u0629 \\u0628\\u0631\\u062e\\u0635\\u0629 \\u0642\\u064a\\u0627\\u062f\\u0629 \\u0635\\u0644\\u0627\\u062d\\u064a\\u062a\\u0647\\u0627 \\u0645\\u0646\\u062a\\u0647\\u064a\\u0629.\",\n          \"\\u0633\\u064a\\u0631 \\u0627\\u0644\\u0645\\u0631\\u0643\\u0628\\u0629 \\u0628\\u0644\\u0627 \\u0644\\u0648\\u062d\\u0629 \\u0623\\u0645\\u0627\\u0645\\u064a\\u0629.\",\n          \"\\u0642\\u064a\\u0627\\u062f\\u0629 \\u0627\\u0644\\u0645\\u0631\\u0643\\u0628\\u0629 \\u0628\\u0644\\u0648\\u062d\\u0627\\u062a \\u063a\\u064a\\u0631 \\u0648\\u0627\\u0636\\u062d\\u0629 \\u0623\\u0648 \\u0628\\u0647\\u0627 \\u062a\\u0644\\u0641.\"\n        ],\n        \"semantic_type\": \"\",\n        \"description\": \"\"\n      }\n    },\n    {\n      \"column\": \"\\u0627\\u0644\\u063a\\u0631\\u0627\\u0645\\u0629\",\n      \"properties\": {\n        \"dtype\": \"category\",\n        \"num_unique_values\": 7,\n        \"samples\": [\n          \"\\u0627\\u0644\\u063a\\u0631\\u0627\\u0645\\u0629 \\u0627\\u0644\\u0645\\u0627\\u0644\\u064a\\u0629 100 - 150 \\u0631\\u064a\\u0627\\u0644\",\n          \"\\u0627\\u0644\\u063a\\u0631\\u0627\\u0645\\u0629 \\u0627\\u0644\\u0645\\u0627\\u0644\\u064a\\u0629 150 - 300 \\u0631\\u064a\\u0627\\u0644\",\n          \"\\u0627\\u0644\\u063a\\u0631\\u0627\\u0645\\u0629 \\u0627\\u0644\\u0645\\u0627\\u0644\\u064a\\u0629 3000 - 6000 \\u0631\\u064a\\u0627\\u0644\"\n        ],\n        \"semantic_type\": \"\",\n        \"description\": \"\"\n      }\n    }\n  ]\n}"
            }
          },
          "metadata": {},
          "execution_count": 147
        }
      ],
      "source": [
        "df = pd.read_csv('/content/Dataset.csv')\n",
        "df.head()"
      ]
    },
    {
      "cell_type": "code",
      "source": [
        "len(df)"
      ],
      "metadata": {
        "id": "9AvJWfhVwjkV",
        "outputId": "5687b57c-1735-4f00-89c5-3aa06d1a95da",
        "colab": {
          "base_uri": "https://localhost:8080/"
        }
      },
      "execution_count": 148,
      "outputs": [
        {
          "output_type": "execute_result",
          "data": {
            "text/plain": [
              "104"
            ]
          },
          "metadata": {},
          "execution_count": 148
        }
      ]
    },
    {
      "cell_type": "markdown",
      "metadata": {
        "id": "0Hs28tz2LbFx"
      },
      "source": [
        "## Step 3: Create Markdown Content from the Dataset"
      ]
    },
    {
      "cell_type": "markdown",
      "metadata": {
        "id": "PiNAqLhELd_S"
      },
      "source": [
        "For each traffic violation in the dataset, you will generate markdown text that describes the violation and the associated fine. Create a loop to iterate through the dataset and store the generated markdown in a list. Each fine should look like this:\n",
        "\n",
        "**المخالفة** - الغرامة"
      ]
    },
    {
      "cell_type": "code",
      "execution_count": 161,
      "metadata": {
        "id": "daP6wjbA_km0"
      },
      "outputs": [],
      "source": [
        "#Create Markdown Content from the Dataset\n",
        "directory = 'data/markdown_files'\n",
        "os.makedirs(directory, exist_ok=True)"
      ]
    },
    {
      "cell_type": "code",
      "source": [
        "for i in range(0,103):\n",
        "\n",
        "     title = df[\"المخالفة\"].iloc[i]\n",
        "     content = df[\"الغرامة\"].iloc[i]\n",
        "\n",
        "     markdown_content = f\"# {title}\\n\\n\"\n",
        "     markdown_content += f\"{content}\\n\\n\"\n",
        "\n",
        "     with open(f'{directory}/{i}.md', 'w', encoding='utf-8') as file:\n",
        "        file.write(markdown_content)"
      ],
      "metadata": {
        "id": "aOs-7dTu47bL"
      },
      "execution_count": 162,
      "outputs": []
    },
    {
      "cell_type": "code",
      "source": [
        "markdown_texts = []\n",
        "for filename in os.listdir(directory):\n",
        "  if filename.endswith(\".md\"):\n",
        "    with open(os.path.join(directory, filename), 'r', encoding='utf-8') as file:\n",
        "      markdown_content = file.read()\n",
        "      html_content = markdown.markdown(markdown_content)\n",
        "      markdown_texts.append(html_content)"
      ],
      "metadata": {
        "id": "8oLxfYiU9ZEE"
      },
      "execution_count": 163,
      "outputs": []
    },
    {
      "cell_type": "markdown",
      "metadata": {
        "id": "ifkMDS5SLui4"
      },
      "source": [
        "## Step 4: Chunk the Markdown Data"
      ]
    },
    {
      "cell_type": "code",
      "source": [
        "!pip install tiktoken"
      ],
      "metadata": {
        "id": "660hg6Go0-Ju",
        "outputId": "e822066d-8db4-4fab-ec29-4c7933a03127",
        "colab": {
          "base_uri": "https://localhost:8080/"
        },
        "collapsed": true
      },
      "execution_count": 152,
      "outputs": [
        {
          "output_type": "stream",
          "name": "stdout",
          "text": [
            "Requirement already satisfied: tiktoken in /usr/local/lib/python3.10/dist-packages (0.7.0)\n",
            "Requirement already satisfied: regex>=2022.1.18 in /usr/local/lib/python3.10/dist-packages (from tiktoken) (2024.5.15)\n",
            "Requirement already satisfied: requests>=2.26.0 in /usr/local/lib/python3.10/dist-packages (from tiktoken) (2.31.0)\n",
            "Requirement already satisfied: charset-normalizer<4,>=2 in /usr/local/lib/python3.10/dist-packages (from requests>=2.26.0->tiktoken) (3.3.2)\n",
            "Requirement already satisfied: idna<4,>=2.5 in /usr/local/lib/python3.10/dist-packages (from requests>=2.26.0->tiktoken) (3.7)\n",
            "Requirement already satisfied: urllib3<3,>=1.21.1 in /usr/local/lib/python3.10/dist-packages (from requests>=2.26.0->tiktoken) (2.0.7)\n",
            "Requirement already satisfied: certifi>=2017.4.17 in /usr/local/lib/python3.10/dist-packages (from requests>=2.26.0->tiktoken) (2024.7.4)\n"
          ]
        }
      ]
    },
    {
      "cell_type": "markdown",
      "metadata": {
        "id": "pJxNEV5yLxMu"
      },
      "source": [
        "Using LangChain's `RecursiveCharacterTextSplitter`, split the markdown texts into smaller chunks that will be stored in the vector database."
      ]
    },
    {
      "cell_type": "code",
      "execution_count": 166,
      "metadata": {
        "id": "Hf3-3j9iALUN",
        "outputId": "08c81587-0206-4fa5-cb50-737bd94982d9",
        "colab": {
          "base_uri": "https://localhost:8080/"
        }
      },
      "outputs": [
        {
          "output_type": "stream",
          "name": "stdout",
          "text": [
            "[Document(metadata={}, page_content='<h1>طمس لوحات المركبة.</h1>\\n<p>الغرامة المالية 3000 - 6000 ريال</p>'), Document(metadata={}, page_content='<h1>قيادة المركبة في الأسواق التي لا يسمح بالقيادة فيها.</h1>\\n<p>الغرامة المالية 100 - 150 ريال</p>'), Document(metadata={}, page_content='<h1>عدم ربط حزام الأمان.</h1>\\n<p>الغرامة المالية 150 - 300 ريال</p>'), Document(metadata={}, page_content='<h1>استعمال المركبة لغير الغرض الذي رخصت من أجله.</h1>\\n<p>الغرامة المالية 500 - 900 ريال</p>'), Document(metadata={}, page_content='<h1>القيادة على أكتاف الطريق وعلى الأرصفة أو المسارات التي يمنع القيادة فيها.</h1>'), Document(metadata={}, page_content='<p>الغرامة المالية 1000 - 2000 ريال</p>'), Document(metadata={}, page_content='<h1>عدم قيام السائق الذي يرغب في تغيير مساره بإعطاء الأفضلية لسائق المركبة التي تسير في اتجاه مستقيم'), Document(metadata={}, page_content='في اتجاه مستقيم في حال سير المركبتين متحاذيتين بشكل متواز.</h1>'), Document(metadata={}, page_content='<p>الغرامة المالية 500 - 900 ريال</p>'), Document(metadata={}, page_content='<h1>نقل الركاب في الأماكن غير المخصصة لهم في المركبة.</h1>\\n<p>الغرامة المالية 500 - 900 ريال</p>'), Document(metadata={}, page_content='<h1>قيام السائق بتخطي أرتال المركبات أمام إشارات المرور أو نقاط الضبط الأمني باستخدام كتف الطريق أو'), Document(metadata={}, page_content='كتف الطريق أو المسار المخصص للالتفاف.</h1>'), Document(metadata={}, page_content='<p>الغرامة المالية 150 - 300 ريال</p>'), Document(metadata={}, page_content='<h1>عدم إعطاء أفضلية المرور لوسائل النقل العام كالقطارات أو الحافلات وما في حكمها في حال سيرها على'), Document(metadata={}, page_content='في حال سيرها على المسارات المخصصة لها.</h1>'), Document(metadata={}, page_content='<p>الغرامة المالية 500 - 900 ريال</p>'), Document(metadata={}, page_content='<h1>عدم الوقوف وقوفاً تاماً عند إشارة (أمامك أفضلية) في حالة مرور مركبات على الطريق المعطاة له'), Document(metadata={}, page_content='الطريق المعطاة له الأفضلية.</h1>'), Document(metadata={}, page_content='<p>الغرامة المالية 500 - 900 ريال</p>'), Document(metadata={}, page_content='<h1>عدم إعطاء أفضلية المرور للمشاة أثناء عبورهم في المسارات المخصصة لهم.</h1>'), Document(metadata={}, page_content='<p>الغرامة المالية 100 - 150 ريال</p>'), Document(metadata={}, page_content='<h1>عدم إعطاء الأفضلية للمركبات التي على الطريق الرئيسي في حالة عدم وجود إشارة أفضلية.</h1>'), Document(metadata={}, page_content='<p>الغرامة المالية 500 - 900 ريال</p>'), Document(metadata={}, page_content='<h1>تجاوز إشارة المرور الضوئية أثناء الضوء الأحمر.</h1>\\n<p>الغرامة المالية 3000 - 6000 ريال</p>'), Document(metadata={}, page_content='<h1>عدم إعطاء أفضلية المرور لمركبات المواكب الرسمية أو الطوارئ.</h1>'), Document(metadata={}, page_content='<p>الغرامة المالية 1000 - 2000 ريال</p>'), Document(metadata={}, page_content='<h1>تركيب تجهيزات في المركبة كتلك الخاصة بالمركبات الرسمية ومركبات الطوارئ.</h1>'), Document(metadata={}, page_content='<p>الغرامة المالية 3000 - 6000 ريال</p>'), Document(metadata={}, page_content='<h1>عدم التقيد بإشارات رجل الأمن اليدوية عند تنظيمه للحركة وعدم إعطاء إشارته الأولوية على الإشارات'), Document(metadata={}, page_content='على الإشارات الضوئية.</h1>'), Document(metadata={}, page_content='<p>الغرامة المالية 500 - 900 ريال</p>'), Document(metadata={}, page_content='<h1>عدم استخدام الأنوار اللازمة عند السير ليلاً أو في الأحوال الجوية التي تكون فيها الرؤية غير'), Document(metadata={}, page_content='فيها الرؤية غير واضحة.</h1>'), Document(metadata={}, page_content='<p>الغرامة المالية 1000 - 2000 ريال</p>'), Document(metadata={}, page_content='<h1>الوقوف في أماكن وقوف ذوي الاحتياجات الخاصة من غير هذه الفئة المسموح لها.</h1>'), Document(metadata={}, page_content='<p>الغرامة المالية 500 - 900 ريال</p>'), Document(metadata={}, page_content='<h1>التجمهر في مواقع التفحيط.</h1>\\n<p>الغرامة المالية 1000 - 2000 ريال</p>'), Document(metadata={}, page_content='<h1>قيام سائق الدراجة الآلية أو العادية - أو ما في حكمهما - بالتعلق بأي مركبة أخرى، أو سحب أو حمل'), Document(metadata={}, page_content='أخرى، أو سحب أو حمل أشياء تعرض مستخدمي الطريق للخطر.</h1>'), Document(metadata={}, page_content='<p>الغرامة المالية 150 - 300 ريال</p>'), Document(metadata={}, page_content='<h1>عدم الالتزام بحدود المسارات المحددة على الطريق.</h1>\\n<p>الغرامة المالية 300 - 500 ريال</p>'), Document(metadata={}, page_content='<h1>ترك المركبة مفتوحة وفي وضع التشغيل بعد مغادرتها.</h1>\\n<p>الغرامة المالية 100 - 150 ريال</p>'), Document(metadata={}, page_content='<h1>قيادة المركبة تحت تأثير مسكر أو مخدر، أو عقاقير محذر من القيادة تحت تأثيرها.</h1>'), Document(metadata={}, page_content='<p>الغرامة المالية 5000 - 10000 ريال</p>'), Document(metadata={}, page_content='<h1>دخول الشاحنات والمعدات الثقيلة وما في حكمهما إلى المدن أو الخروج منها في الأوقات غير المسموح'), Document(metadata={}, page_content='الأوقات غير المسموح بها.</h1>'), Document(metadata={}, page_content='<p>الغرامة المالية 1000 - 2000 ريال</p>'), Document(metadata={}, page_content='<h1>الانشغال بغير الطريق أثناء قيادة المركبة.</h1>\\n<p>الغرامة المالية 300 - 500 ريال</p>'), Document(metadata={}, page_content='<h1>التحرك بالمركبة بسرعة عالية، بحيث تحدث الإطارات صوتاً عالياً.</h1>'), Document(metadata={}, page_content='<p>الغرامة المالية 150 - 300 ريال</p>'), Document(metadata={}, page_content='<h1>رفض إبراز الوثائق الخاصة بالسائق أو المركبة للمصرح لهم الاطلاع عليها.</h1>'), Document(metadata={}, page_content='<p>الغرامة المالية 1000 - 2000 ريال</p>'), Document(metadata={}, page_content='<h1>زيادة أبعاد الحمولة المنقولة لمركبات النقل الثقيل على الحد المسموح به.</h1>'), Document(metadata={}, page_content='<p>الغرامة المالية 1000 - 2000 ريال</p>'), Document(metadata={}, page_content='<h1>طمس رقم هيكل المركبة أو محاولة طمسه.</h1>\\n<p>الغرامة المالية 5000 - 10000 ريال</p>'), Document(metadata={}, page_content='<h1>قيادة مركبة دون توافر التجهيزات اللازمة، مثل المكابح والأنوار وما في حكمهما.</h1>'), Document(metadata={}, page_content='<p>الغرامة المالية 1000 - 2000 ريال</p>'), Document(metadata={}, page_content='<h1>زيادة أبعاد الحمولة المنقولة لمركبات النقل الخفيف على الحد المسموح به.</h1>'), Document(metadata={}, page_content='<p>الغرامة المالية 500 - 900 ريال</p>'), Document(metadata={}, page_content='<h1>قيادة المركبة برخصة قيادة لا تتناسب مع حجم المركبة ونوع استخدامها.</h1>'), Document(metadata={}, page_content='<p>الغرامة المالية 1000 - 2000 ريال</p>'), Document(metadata={}, page_content='<h1>القيام بأعمال الطرق قبل التنسيق مع الإدارة المختصة.</h1>'), Document(metadata={}, page_content='<p>الغرامة المالية 5000 - 10000 ريال</p>'), Document(metadata={}, page_content='<h1>المراوغة بسرعة بين المركبات على الطرق العامة.</h1>\\n<p>الغرامة المالية 3000 - 6000 ريال</p>'), Document(metadata={}, page_content='<h1>عدم وجود إنارة جانبية أو عواكس أو سواتر للشاحنات والمقطورات.</h1>'), Document(metadata={}, page_content='<p>الغرامة المالية 1000 - 2000 ريال</p>'), Document(metadata={}, page_content='<h1>قيادة المركبة قبل الحصول على رخصة قيادة أو في حال سحب الرخصة.</h1>'), Document(metadata={}, page_content='<p>الغرامة المالية 1000 - 2000 ريال</p>'), Document(metadata={}, page_content='<h1>قيادة المركبة داخل الأنفاق من غير إضاءة أنوارها.</h1>\\n<p>الغرامة المالية 500 - 900 ريال</p>'), Document(metadata={}, page_content='<h1>عدم إعطاء أفضلية المرور في ملتقيات الطرق أو تقاطعاتها لسائق المركبة المتقدم على غيره في حال عدم'), Document(metadata={}, page_content='على غيره في حال عدم وجود لوحات تنظم ذلك.</h1>'), Document(metadata={}, page_content='<p>الغرامة المالية 500 - 900 ريال</p>'), Document(metadata={}, page_content='<h1>قيام سائق مركبة الطوارئ باستعمال المنبهات الخاصة بها من غير ضرورة.</h1>'), Document(metadata={}, page_content='<p>الغرامة المالية 500 - 900 ريال</p>'), Document(metadata={}, page_content='<h1>عدم تثبيت اللوحة في مكانها المخصص.</h1>\\n<p>الغرامة المالية 1000 - 2000 ريال</p>'), Document(metadata={}, page_content='<h1>العبث بعلامات الطريق أو العاكسات أو الشاحنات المنظمة لحركة السير.</h1>'), Document(metadata={}, page_content='<p>الغرامة المالية 3000 - 6000 ريال</p>'), Document(metadata={}, page_content='<h1>عدم استخدام إشارة الالتفاف عند التحول لليمين أو اليسار أو التجاوز أو تغيير المسار.</h1>'), Document(metadata={}, page_content='<p>الغرامة المالية 150 - 300 ريال</p>'), Document(metadata={}, page_content='<h1>قيادة المركبة بالاتجاه المعاكس لحركة السير.</h1>\\n<p>الغرامة المالية 3000 - 6000 ريال</p>'), Document(metadata={}, page_content='<h1>سماح أصحاب الحيوانات بعبور حيواناتهم من غير الأماكن المخصصة لها، أو دون التنسيق مع الجهات'), Document(metadata={}, page_content='التنسيق مع الجهات المختصة.</h1>'), Document(metadata={}, page_content='<p>الغرامة المالية 5000 - 10000 ريال</p>'), Document(metadata={}, page_content='<h1>الرجوع إلى الخلف في الطريق العام لمسافة تزيد على عشرين متراً.</h1>'), Document(metadata={}, page_content='<p>الغرامة المالية 150 - 300 ريال</p>'), Document(metadata={}, page_content='<h1>تظليل زجاج المركبة دون التقيد بالضوابط التي تضعها الإدارة المختصة.</h1>'), Document(metadata={}, page_content='<p>الغرامة المالية 500 - 900 ريال</p>'), Document(metadata={}, page_content='<h1>عدم ترك السائق مسافة كافية بين مركبته والمركبة التي أمامه، تسمح له بتفادي وقوع حادث.</h1>'), Document(metadata={}, page_content='<p>الغرامة المالية 150 - 300 ريال</p>'), Document(metadata={}, page_content='<h1>عدم قيام السائق في حال تغيير اتجاهه بالدوران للخلف بإعطاء أفضلية المرور للمركبات القادمة من'), Document(metadata={}, page_content='للمركبات القادمة من الاتجاهات الأخرى.</h1>'), Document(metadata={}, page_content='<p>الغرامة المالية 500 - 900 ريال</p>'), Document(metadata={}, page_content='<h1>تسيير مركبات الأشغال العامة على الطرق قبل اتخاذ الإجراءات اللازمة لتلافي أضرارها، بما في ذلك عدم'), Document(metadata={}, page_content='بما في ذلك عدم وضع الشرائح العاكسة على جانبي مؤخرة المركبة.</h1>'), Document(metadata={}, page_content='<p>الغرامة المالية 3000 - 6000 ريال</p>'), Document(metadata={}, page_content='<h1>عدم إنهاء إجراءات تعديل مجال استعمال المركبة.</h1>\\n<p>الغرامة المالية 1000 - 2000 ريال</p>'), Document(metadata={}, page_content='<h1>استخدام أجهزة غير مصرح بها في المركبة أو وضع شعارات أو ملصقات تتنافى مع الآداب العامة.</h1>'), Document(metadata={}, page_content='<p>الغرامة المالية 3000 - 6000 ريال</p>'), Document(metadata={}, page_content='<h1>عدم استخدام مقاعد الأمان المخصصة للأطفال.</h1>\\n<p>الغرامة المالية 300 - 500 ريال</p>'), Document(metadata={}, page_content='<h1>عدم إعطاء الأفضلية للمركبات التي بداخل الدوار من قبل المركبات التي خارجه في حالة عدم وجود إشارات'), Document(metadata={}, page_content='عدم وجود إشارات ضوئية أو رجل أمن يوجه السير.</h1>'), Document(metadata={}, page_content='<p>الغرامة المالية 500 - 900 ريال</p>'), Document(metadata={}, page_content='<h1>التجاوز في المناطق التي يمنع فيها التجاوز، مثل المنعطفات والمرتفعات.</h1>'), Document(metadata={}, page_content='<p>الغرامة المالية 1000 - 2000 ريال</p>'), Document(metadata={}, page_content='<h1>نقل عدد من الركاب يزيد على العدد المحدد في رخصة السير.</h1>'), Document(metadata={}, page_content='<p>الغرامة المالية 1000 - 2000 ريال</p>'), Document(metadata={}, page_content='<h1>استخدام لوحات غير عائدة للمركبة.</h1>\\n<p>الغرامة المالية 5000 - 10000 ريال</p>'), Document(metadata={}, page_content='<h1>عدم إخراج المركبة المعدة للتصدير خلال المدة المحددة.</h1>'), Document(metadata={}, page_content='<p>الغرامة المالية 1000 - 2000 ريال</p>'), Document(metadata={}, page_content='<h1>تسيير مركبة تحدث تلويثاً للبيئة على الطرق العامة.</h1>\\n<p>الغرامة المالية 500 - 900 ريال</p>'), Document(metadata={}, page_content='<h1>استعمال المكابح (الفرامل) بشكل مفاجئ لغير ضرورة.</h1>\\n<p>الغرامة المالية 300 - 500 ريال</p>'), Document(metadata={}, page_content='<h1>قيادة المركبة بلوحات غير واضحة أو بها تلف.</h1>\\n<p>الغرامة المالية 1000 - 2000 ريال</p>'), Document(metadata={}, page_content='<h1>القيادة على الطريق بمركبات مخصصة للاقتناء.</h1>\\n<p>الغرامة المالية 500 - 900 ريال</p>'), Document(metadata={}, page_content='<h1>عبور المشاة للطرق السريعة.</h1>\\n<p>الغرامة المالية 1000 - 2000 ريال</p>'), Document(metadata={}, page_content='<h1>القيادة برخصة قيادة صلاحيتها منتهية.</h1>\\n<p>الغرامة المالية 300 - 500 ريال</p>'), Document(metadata={}, page_content='<h1>التجمهر في موقع الحادث.</h1>\\n<p>الغرامة المالية 150 - 300 ريال</p>'), Document(metadata={}, page_content='<h1>المجازفة بعبور الأودية والشعاب أثناء جريانها.</h1>\\n<p>الغرامة المالية 5000 - 10000 ريال</p>'), Document(metadata={}, page_content='<h1>عدم تقديم المركبة للفحص الفني الدوري.</h1>\\n<p>الغرامة المالية 150 - 300 ريال</p>'), Document(metadata={}, page_content='<h1>استخدام السائق بيده أي جهاز محمول أثناء سير المركبة.</h1>\\n<p>الغرامة المالية 500 - 900 ريال</p>'), Document(metadata={}, page_content='<h1>عدم اتخاذ الاحتياطات اللازمة عند إيقاف المركبة في حالات الطوارئ على الطرق العامة.</h1>'), Document(metadata={}, page_content='<p>الغرامة المالية 300 - 500 ريال</p>'), Document(metadata={}, page_content='<h1>عدم التقيد بتنظيمات السير عند تقاطعات الطرق.</h1>\\n<p>الغرامة المالية 300 - 500 ريال</p>'), Document(metadata={}, page_content='<h1>إجراء سباق للمركبات على الطرق العامة، أو السير في مواكب دون الحصول على تصريح.</h1>'), Document(metadata={}, page_content='<p>الغرامة المالية 3000 - 6000 ريال</p>'), Document(metadata={}, page_content='<h1>عدم قيام السائق في حال إغلاق جزء من الطريق بإعطاء الأفضلية لمن كان طريقه مفتوحاً.</h1>'), Document(metadata={}, page_content='<p>الغرامة المالية 500 - 900 ريال</p>'), Document(metadata={}, page_content='<h1>عدم الوقوف تماماً عند إشارة قف.</h1>\\n<p>الغرامة المالية 500 - 900 ريال</p>'), Document(metadata={}, page_content='<h1>عدم قيام أصحاب الحيوانات بإبعادها عن حرم الطريق المعتمد.</h1>'), Document(metadata={}, page_content='<p>الغرامة المالية 3000 - 6000 ريال</p>'), Document(metadata={}, page_content='<h1>وضع حواجز داخل المركبة أو خارجها تعوق رؤية السائق.</h1>\\n<p>الغرامة المالية 150 - 300 ريال</p>'), Document(metadata={}, page_content='<h1>سير المركبة بلا لوحة خلفية، أو بلا لوحات.</h1>\\n<p>الغرامة المالية 3000 - 6000 ريال</p>'), Document(metadata={}, page_content='<h1>عبور المشاة للطرق من غير الأماكن المخصصة لهم.</h1>\\n<p>الغرامة المالية 100 - 150 ريال</p>'), Document(metadata={}, page_content='<h1>استخدام لوحات غير صادرة من الإدارة المختصة.</h1>\\n<p>الغرامة المالية 1000 - 2000 ريال</p>'), Document(metadata={}, page_content='<h1>عدم التزام الشاحنات والمعدات الثقيلة بالسير في المسار الآمن في الطريق المتعدد المسارات.</h1>'), Document(metadata={}, page_content='<p>الغرامة المالية 3000 - 6000 ريال</p>'), Document(metadata={}, page_content='<h1>إحداث ضوضاء باستعمال أجهزة من داخل المركبة، أو ارتكاب أي سلوك يتنافى مع الآداب العامة أثناء'), Document(metadata={}, page_content='الآداب العامة أثناء القيادة.</h1>'), Document(metadata={}, page_content='<p>الغرامة المالية 300 - 500 ريال</p>'), Document(metadata={}, page_content='<h1>إجراء أي تعديل أو إضافة على جسم المركبة أو هيكلها، يغير معالمها أو تجهيزاتها الأساسية دون اتخاذ'), Document(metadata={}, page_content='الأساسية دون اتخاذ الإجراءات النظامية.</h1>'), Document(metadata={}, page_content='<p>الغرامة المالية 1000 - 2000 ريال</p>'), Document(metadata={}, page_content='<h1>عدم حمل رخصة القيادة أو رخصة السير أثناء القيادة.</h1>\\n<p>الغرامة المالية 150 - 300 ريال</p>'), Document(metadata={}, page_content='<h1>عدم تغطية الحمولة المنقولة وتثبيتها.</h1>\\n<p>الغرامة المالية 500 - 900 ريال</p>'), Document(metadata={}, page_content='<h1>مخالفة تنظيمات السير على الطرق.</h1>\\n<p>الغرامة المالية 150 - 300 ريال</p>'), Document(metadata={}, page_content='<h1>عدم وجود تأمين ساري للمركبة.</h1>\\n<p>الغرامة المالية 100 - 150 ريال</p>'), Document(metadata={}, page_content='<h1>عدم توافر المتطلبات النظامية للمقطورة.</h1>\\n<p>الغرامة المالية 150 - 300 ريال</p>'), Document(metadata={}, page_content='<h1>عدم إعطاء الأفضلية للمركبة القادمة من اليمين عند الوصول إلى تقاطع متساوي الأفضلية في آن واحد'), Document(metadata={}, page_content='الأفضلية في آن واحد وعندما لا يكون هناك إشارات أولوية.</h1>'), Document(metadata={}, page_content='<p>الغرامة المالية 500 - 900 ريال</p>'), Document(metadata={}, page_content='<h1>ترك أجسام على الطرق العامة تعرض السلامة العامة للخطر.</h1>'), Document(metadata={}, page_content='<p>الغرامة المالية 1000 - 2000 ريال</p>'), Document(metadata={}, page_content='<h1>سير المركبة بلا لوحة أمامية.</h1>\\n<p>الغرامة المالية 1000 - 2000 ريال</p>'), Document(metadata={}, page_content='<h1>إساءة استعمال منبه المركبة.</h1>\\n<p>الغرامة المالية 150 - 300 ريال</p>'), Document(metadata={}, page_content='<h1>ترك الأطفال دون سن العاشرة في المركبة دون مرافق راشد.</h1>\\n<p>الغرامة المالية 300 - 500 ريال</p>'), Document(metadata={}, page_content='<h1>الوقوف على خطوط السكة الحديدية.</h1>\\n<p>الغرامة المالية 1000 - 2000 ريال</p>'), Document(metadata={}, page_content='<h1>ترك المركبة في طريق منحدرة مع عدم اتخاذ الاحتياطات اللازمة.</h1>'), Document(metadata={}, page_content='<p>الغرامة المالية 300 - 500 ريال</p>'), Document(metadata={}, page_content='<h1>رمي أجسام خارج المركبة.</h1>\\n<p>الغرامة المالية 300 - 500 ريال</p>'), Document(metadata={}, page_content='<h1>عدم تقيد المشاة بالإشارات الخاصة بهم.</h1>\\n<p>الغرامة المالية 100 - 150 ريال</p>'), Document(metadata={}, page_content='<h1>عدم ارتداء الخوذة أثناء قيادة الدراجة الآلية.</h1>\\n<p>الغرامة المالية 1000 - 2000 ريال</p>'), Document(metadata={}, page_content='<h1>وقوف المركبة في أماكن غير مخصصة للوقوف.</h1>\\n<p>الغرامة المالية 100 - 150 ريال</p>'), Document(metadata={}, page_content='<h1>ملاحقة مركبات الطوارئ أثناء استعمال المنبهات الخاصة بها.</h1>'), Document(metadata={}, page_content='<p>الغرامة المالية 500 - 900 ريال</p>'), Document(metadata={}, page_content='<h1>وضع كتابة أو رسم أو ملصق أو أي بيان آخر على جسم المركبة دون موافقة الجهات المختصة.</h1>'), Document(metadata={}, page_content='<p>الغرامة المالية 500 - 900 ريال</p>'), Document(metadata={}, page_content='<h1>التباطؤ في السير على نحو يعرقل الحركة.</h1>\\n<p>الغرامة المالية 300 - 500 ريال</p>'), Document(metadata={}, page_content='<h1>عدم إعطاء أفضلية المرور للمركبات القادمة من طريق رئيسي في حالة تقاطعها مع طريق فرعي أو طريق'), Document(metadata={}, page_content='طريق فرعي أو طريق ترابي.</h1>'), Document(metadata={}, page_content='<p>الغرامة المالية 500 - 900 ريال</p>'), Document(metadata={}, page_content='<h1>النزول أو الركوب أثناء سير المركبات.</h1>\\n<p>الغرامة المالية 1000 - 2000 ريال</p>'), Document(metadata={}, page_content='<h1>مخالفة قواعد استعمال أنوار التلاقي.</h1>\\n<p>الغرامة المالية 150 - 300 ريال</p>'), Document(metadata={}, page_content='<h1>تجاوز حافلات النقل المدرسي عند توقفها للتحميل أو التنزيل.</h1>'), Document(metadata={}, page_content='<p>الغرامة المالية 3000 - 6000 ريال</p>'), Document(metadata={}, page_content='<h1>عدم الوقوف عند مراكز الضبط الأمني أو نقاط التفتيش أو عدم الوقوف للدورية الأمنية عند وجود توجيه'), Document(metadata={}, page_content='عند وجود توجيه أو علامة توجب الوقوف.</h1>'), Document(metadata={}, page_content='<p>الغرامة المالية 3000 - 6000 ريال</p>')]\n"
          ]
        }
      ],
      "source": [
        "from langchain.text_splitter import RecursiveCharacterTextSplitter\n",
        "\n",
        "text_splitter = RecursiveCharacterTextSplitter(chunk_size=100,\n",
        "                                               chunk_overlap=20,\n",
        "                                               length_function=len,\n",
        "                                               is_separator_regex=False,\n",
        "                                               )\n",
        "text = text_splitter.create_documents(markdown_texts)\n",
        "print(text)"
      ]
    },
    {
      "cell_type": "markdown",
      "metadata": {
        "id": "EviXuMjfL2Gj"
      },
      "source": [
        "## Step 5: Generate Embeddings for the Documents"
      ]
    },
    {
      "cell_type": "markdown",
      "metadata": {
        "id": "gAUq12UtL5OJ"
      },
      "source": [
        "Generate embeddings for the chunks of text using HuggingFace's pre-trained Arabic language model. These embeddings will be stored in a `Chroma` vector store."
      ]
    },
    {
      "cell_type": "code",
      "source": [
        "!pip install -U langchain-community"
      ],
      "metadata": {
        "collapsed": true,
        "colab": {
          "base_uri": "https://localhost:8080/"
        },
        "id": "3u-VHH7WDoZK",
        "outputId": "4d4228cb-c094-4f6e-d9b1-b5e116d43a95"
      },
      "execution_count": 154,
      "outputs": [
        {
          "output_type": "stream",
          "name": "stdout",
          "text": [
            "Requirement already satisfied: langchain-community in /usr/local/lib/python3.10/dist-packages (0.3.0)\n",
            "Requirement already satisfied: PyYAML>=5.3 in /usr/local/lib/python3.10/dist-packages (from langchain-community) (6.0.1)\n",
            "Requirement already satisfied: SQLAlchemy<3,>=1.4 in /usr/local/lib/python3.10/dist-packages (from langchain-community) (2.0.31)\n",
            "Requirement already satisfied: aiohttp<4.0.0,>=3.8.3 in /usr/local/lib/python3.10/dist-packages (from langchain-community) (3.9.5)\n",
            "Requirement already satisfied: dataclasses-json<0.7,>=0.5.7 in /usr/local/lib/python3.10/dist-packages (from langchain-community) (0.6.7)\n",
            "Requirement already satisfied: langchain<0.4.0,>=0.3.0 in /usr/local/lib/python3.10/dist-packages (from langchain-community) (0.3.0)\n",
            "Requirement already satisfied: langchain-core<0.4.0,>=0.3.0 in /usr/local/lib/python3.10/dist-packages (from langchain-community) (0.3.1)\n",
            "Requirement already satisfied: langsmith<0.2.0,>=0.1.112 in /usr/local/lib/python3.10/dist-packages (from langchain-community) (0.1.123)\n",
            "Requirement already satisfied: numpy<2,>=1 in /usr/local/lib/python3.10/dist-packages (from langchain-community) (1.25.2)\n",
            "Requirement already satisfied: pydantic-settings<3.0.0,>=2.4.0 in /usr/local/lib/python3.10/dist-packages (from langchain-community) (2.5.2)\n",
            "Requirement already satisfied: requests<3,>=2 in /usr/local/lib/python3.10/dist-packages (from langchain-community) (2.31.0)\n",
            "Requirement already satisfied: tenacity!=8.4.0,<9.0.0,>=8.1.0 in /usr/local/lib/python3.10/dist-packages (from langchain-community) (8.5.0)\n",
            "Requirement already satisfied: aiosignal>=1.1.2 in /usr/local/lib/python3.10/dist-packages (from aiohttp<4.0.0,>=3.8.3->langchain-community) (1.3.1)\n",
            "Requirement already satisfied: attrs>=17.3.0 in /usr/local/lib/python3.10/dist-packages (from aiohttp<4.0.0,>=3.8.3->langchain-community) (23.2.0)\n",
            "Requirement already satisfied: frozenlist>=1.1.1 in /usr/local/lib/python3.10/dist-packages (from aiohttp<4.0.0,>=3.8.3->langchain-community) (1.4.1)\n",
            "Requirement already satisfied: multidict<7.0,>=4.5 in /usr/local/lib/python3.10/dist-packages (from aiohttp<4.0.0,>=3.8.3->langchain-community) (6.0.5)\n",
            "Requirement already satisfied: yarl<2.0,>=1.0 in /usr/local/lib/python3.10/dist-packages (from aiohttp<4.0.0,>=3.8.3->langchain-community) (1.9.4)\n",
            "Requirement already satisfied: async-timeout<5.0,>=4.0 in /usr/local/lib/python3.10/dist-packages (from aiohttp<4.0.0,>=3.8.3->langchain-community) (4.0.3)\n",
            "Requirement already satisfied: marshmallow<4.0.0,>=3.18.0 in /usr/local/lib/python3.10/dist-packages (from dataclasses-json<0.7,>=0.5.7->langchain-community) (3.22.0)\n",
            "Requirement already satisfied: typing-inspect<1,>=0.4.0 in /usr/local/lib/python3.10/dist-packages (from dataclasses-json<0.7,>=0.5.7->langchain-community) (0.9.0)\n",
            "Requirement already satisfied: langchain-text-splitters<0.4.0,>=0.3.0 in /usr/local/lib/python3.10/dist-packages (from langchain<0.4.0,>=0.3.0->langchain-community) (0.3.0)\n",
            "Requirement already satisfied: pydantic<3.0.0,>=2.7.4 in /usr/local/lib/python3.10/dist-packages (from langchain<0.4.0,>=0.3.0->langchain-community) (2.8.2)\n",
            "Requirement already satisfied: jsonpatch<2.0,>=1.33 in /usr/local/lib/python3.10/dist-packages (from langchain-core<0.4.0,>=0.3.0->langchain-community) (1.33)\n",
            "Requirement already satisfied: packaging<25,>=23.2 in /usr/local/lib/python3.10/dist-packages (from langchain-core<0.4.0,>=0.3.0->langchain-community) (24.1)\n",
            "Requirement already satisfied: typing-extensions>=4.7 in /usr/local/lib/python3.10/dist-packages (from langchain-core<0.4.0,>=0.3.0->langchain-community) (4.12.2)\n",
            "Requirement already satisfied: httpx<1,>=0.23.0 in /usr/local/lib/python3.10/dist-packages (from langsmith<0.2.0,>=0.1.112->langchain-community) (0.27.2)\n",
            "Requirement already satisfied: orjson<4.0.0,>=3.9.14 in /usr/local/lib/python3.10/dist-packages (from langsmith<0.2.0,>=0.1.112->langchain-community) (3.10.7)\n",
            "Requirement already satisfied: python-dotenv>=0.21.0 in /usr/local/lib/python3.10/dist-packages (from pydantic-settings<3.0.0,>=2.4.0->langchain-community) (1.0.1)\n",
            "Requirement already satisfied: charset-normalizer<4,>=2 in /usr/local/lib/python3.10/dist-packages (from requests<3,>=2->langchain-community) (3.3.2)\n",
            "Requirement already satisfied: idna<4,>=2.5 in /usr/local/lib/python3.10/dist-packages (from requests<3,>=2->langchain-community) (3.7)\n",
            "Requirement already satisfied: urllib3<3,>=1.21.1 in /usr/local/lib/python3.10/dist-packages (from requests<3,>=2->langchain-community) (2.0.7)\n",
            "Requirement already satisfied: certifi>=2017.4.17 in /usr/local/lib/python3.10/dist-packages (from requests<3,>=2->langchain-community) (2024.7.4)\n",
            "Requirement already satisfied: greenlet!=0.4.17 in /usr/local/lib/python3.10/dist-packages (from SQLAlchemy<3,>=1.4->langchain-community) (3.0.3)\n",
            "Requirement already satisfied: anyio in /usr/local/lib/python3.10/dist-packages (from httpx<1,>=0.23.0->langsmith<0.2.0,>=0.1.112->langchain-community) (3.7.1)\n",
            "Requirement already satisfied: httpcore==1.* in /usr/local/lib/python3.10/dist-packages (from httpx<1,>=0.23.0->langsmith<0.2.0,>=0.1.112->langchain-community) (1.0.5)\n",
            "Requirement already satisfied: sniffio in /usr/local/lib/python3.10/dist-packages (from httpx<1,>=0.23.0->langsmith<0.2.0,>=0.1.112->langchain-community) (1.3.1)\n",
            "Requirement already satisfied: h11<0.15,>=0.13 in /usr/local/lib/python3.10/dist-packages (from httpcore==1.*->httpx<1,>=0.23.0->langsmith<0.2.0,>=0.1.112->langchain-community) (0.14.0)\n",
            "Requirement already satisfied: jsonpointer>=1.9 in /usr/local/lib/python3.10/dist-packages (from jsonpatch<2.0,>=1.33->langchain-core<0.4.0,>=0.3.0->langchain-community) (3.0.0)\n",
            "Requirement already satisfied: annotated-types>=0.4.0 in /usr/local/lib/python3.10/dist-packages (from pydantic<3.0.0,>=2.7.4->langchain<0.4.0,>=0.3.0->langchain-community) (0.7.0)\n",
            "Requirement already satisfied: pydantic-core==2.20.1 in /usr/local/lib/python3.10/dist-packages (from pydantic<3.0.0,>=2.7.4->langchain<0.4.0,>=0.3.0->langchain-community) (2.20.1)\n",
            "Requirement already satisfied: mypy-extensions>=0.3.0 in /usr/local/lib/python3.10/dist-packages (from typing-inspect<1,>=0.4.0->dataclasses-json<0.7,>=0.5.7->langchain-community) (1.0.0)\n",
            "Requirement already satisfied: exceptiongroup in /usr/local/lib/python3.10/dist-packages (from anyio->httpx<1,>=0.23.0->langsmith<0.2.0,>=0.1.112->langchain-community) (1.2.2)\n"
          ]
        }
      ]
    },
    {
      "cell_type": "code",
      "execution_count": 170,
      "metadata": {
        "id": "d4-YlqMKAeGr",
        "colab": {
          "base_uri": "https://localhost:8080/",
          "height": 495
        },
        "outputId": "7f2c5d37-e97d-4843-9758-650d7589bbdd"
      },
      "outputs": [
        {
          "output_type": "stream",
          "name": "stderr",
          "text": [
            "WARNING:sentence_transformers.SentenceTransformer:No sentence-transformers model found with name asafaya/bert-base-arabic. Creating a new one with mean pooling.\n"
          ]
        },
        {
          "output_type": "error",
          "ename": "ValueError",
          "evalue": "Expected collection name that (1) contains 3-63 characters, (2) starts and ends with an alphanumeric character, (3) otherwise contains only alphanumeric characters, underscores or hyphens (-), (4) contains no two consecutive periods (..) and (5) is not a valid IPv4 address, got [Document(metadata={}, page_content='<h1>طمس لوحات المركبة.</h1>\\n<p>الغرامة المالية 3000 - 6000 ريال</p>'), Document(metadata={}, page_content='<h1>قيادة المركبة في الأسواق التي لا يسمح بالقيادة فيها.</h1>\\n<p>الغرامة المالية 100 - 150 ريال</p>'), Document(metadata={}, page_content='<h1>عدم ربط حزام الأمان.</h1>\\n<p>الغرامة المالية 150 - 300 ريال</p>'), Document(metadata={}, page_content='<h1>استعمال المركبة لغير الغرض الذي رخصت من أجله.</h1>\\n<p>الغرامة المالية 500 - 900 ريال</p>'), Document(metadata={}, page_content='<h1>القيادة على أكتاف الطريق وعلى الأرصفة أو المسارات التي يمنع القيادة فيها.</h1>'), Document(metadata={}, page_content='<p>الغرامة المالية 1000 - 2000 ريال</p>'), Document(metadata={}, page_content='<h1>عدم قيام السائق الذي يرغب في تغيير مساره بإعطاء الأفضلية لسائق المركبة التي تسير في اتجاه مستقيم'), Document(metadata={}, page_content='في اتجاه مستقيم في حال سير المركبتين متحاذيتين بشكل متواز.</h1>'), Document(metadata={}, page_content='<p>الغرامة المالية 500 - 900 ريال</p>'), Document(metadata={}, page_content='<h1>نقل الركاب في الأماكن غير المخصصة لهم في المركبة.</h1>\\n<p>الغرامة المالية 500 - 900 ريال</p>'), Document(metadata={}, page_content='<h1>قيام السائق بتخطي أرتال المركبات أمام إشارات المرور أو نقاط الضبط الأمني باستخدام كتف الطريق أو'), Document(metadata={}, page_content='كتف الطريق أو المسار المخصص للالتفاف.</h1>'), Document(metadata={}, page_content='<p>الغرامة المالية 150 - 300 ريال</p>'), Document(metadata={}, page_content='<h1>عدم إعطاء أفضلية المرور لوسائل النقل العام كالقطارات أو الحافلات وما في حكمها في حال سيرها على'), Document(metadata={}, page_content='في حال سيرها على المسارات المخصصة لها.</h1>'), Document(metadata={}, page_content='<p>الغرامة المالية 500 - 900 ريال</p>'), Document(metadata={}, page_content='<h1>عدم الوقوف وقوفاً تاماً عند إشارة (أمامك أفضلية) في حالة مرور مركبات على الطريق المعطاة له'), Document(metadata={}, page_content='الطريق المعطاة له الأفضلية.</h1>'), Document(metadata={}, page_content='<p>الغرامة المالية 500 - 900 ريال</p>'), Document(metadata={}, page_content='<h1>عدم إعطاء أفضلية المرور للمشاة أثناء عبورهم في المسارات المخصصة لهم.</h1>'), Document(metadata={}, page_content='<p>الغرامة المالية 100 - 150 ريال</p>'), Document(metadata={}, page_content='<h1>عدم إعطاء الأفضلية للمركبات التي على الطريق الرئيسي في حالة عدم وجود إشارة أفضلية.</h1>'), Document(metadata={}, page_content='<p>الغرامة المالية 500 - 900 ريال</p>'), Document(metadata={}, page_content='<h1>تجاوز إشارة المرور الضوئية أثناء الضوء الأحمر.</h1>\\n<p>الغرامة المالية 3000 - 6000 ريال</p>'), Document(metadata={}, page_content='<h1>عدم إعطاء أفضلية المرور لمركبات المواكب الرسمية أو الطوارئ.</h1>'), Document(metadata={}, page_content='<p>الغرامة المالية 1000 - 2000 ريال</p>'), Document(metadata={}, page_content='<h1>تركيب تجهيزات في المركبة كتلك الخاصة بالمركبات الرسمية ومركبات الطوارئ.</h1>'), Document(metadata={}, page_content='<p>الغرامة المالية 3000 - 6000 ريال</p>'), Document(metadata={}, page_content='<h1>عدم التقيد بإشارات رجل الأمن اليدوية عند تنظيمه للحركة وعدم إعطاء إشارته الأولوية على الإشارات'), Document(metadata={}, page_content='على الإشارات الضوئية.</h1>'), Document(metadata={}, page_content='<p>الغرامة المالية 500 - 900 ريال</p>'), Document(metadata={}, page_content='<h1>عدم استخدام الأنوار اللازمة عند السير ليلاً أو في الأحوال الجوية التي تكون فيها الرؤية غير'), Document(metadata={}, page_content='فيها الرؤية غير واضحة.</h1>'), Document(metadata={}, page_content='<p>الغرامة المالية 1000 - 2000 ريال</p>'), Document(metadata={}, page_content='<h1>الوقوف في أماكن وقوف ذوي الاحتياجات الخاصة من غير هذه الفئة المسموح لها.</h1>'), Document(metadata={}, page_content='<p>الغرامة المالية 500 - 900 ريال</p>'), Document(metadata={}, page_content='<h1>التجمهر في مواقع التفحيط.</h1>\\n<p>الغرامة المالية 1000 - 2000 ريال</p>'), Document(metadata={}, page_content='<h1>قيام سائق الدراجة الآلية أو العادية - أو ما في حكمهما - بالتعلق بأي مركبة أخرى، أو سحب أو حمل'), Document(metadata={}, page_content='أخرى، أو سحب أو حمل أشياء تعرض مستخدمي الطريق للخطر.</h1>'), Document(metadata={}, page_content='<p>الغرامة المالية 150 - 300 ريال</p>'), Document(metadata={}, page_content='<h1>عدم الالتزام بحدود المسارات المحددة على الطريق.</h1>\\n<p>الغرامة المالية 300 - 500 ريال</p>'), Document(metadata={}, page_content='<h1>ترك المركبة مفتوحة وفي وضع التشغيل بعد مغادرتها.</h1>\\n<p>الغرامة المالية 100 - 150 ريال</p>'), Document(metadata={}, page_content='<h1>قيادة المركبة تحت تأثير مسكر أو مخدر، أو عقاقير محذر من القيادة تحت تأثيرها.</h1>'), Document(metadata={}, page_content='<p>الغرامة المالية 5000 - 10000 ريال</p>'), Document(metadata={}, page_content='<h1>دخول الشاحنات والمعدات الثقيلة وما في حكمهما إلى المدن أو الخروج منها في الأوقات غير المسموح'), Document(metadata={}, page_content='الأوقات غير المسموح بها.</h1>'), Document(metadata={}, page_content='<p>الغرامة المالية 1000 - 2000 ريال</p>'), Document(metadata={}, page_content='<h1>الانشغال بغير الطريق أثناء قيادة المركبة.</h1>\\n<p>الغرامة المالية 300 - 500 ريال</p>'), Document(metadata={}, page_content='<h1>التحرك بالمركبة بسرعة عالية، بحيث تحدث الإطارات صوتاً عالياً.</h1>'), Document(metadata={}, page_content='<p>الغرامة المالية 150 - 300 ريال</p>'), Document(metadata={}, page_content='<h1>رفض إبراز الوثائق الخاصة بالسائق أو المركبة للمصرح لهم الاطلاع عليها.</h1>'), Document(metadata={}, page_content='<p>الغرامة المالية 1000 - 2000 ريال</p>'), Document(metadata={}, page_content='<h1>زيادة أبعاد الحمولة المنقولة لمركبات النقل الثقيل على الحد المسموح به.</h1>'), Document(metadata={}, page_content='<p>الغرامة المالية 1000 - 2000 ريال</p>'), Document(metadata={}, page_content='<h1>طمس رقم هيكل المركبة أو محاولة طمسه.</h1>\\n<p>الغرامة المالية 5000 - 10000 ريال</p>'), Document(metadata={}, page_content='<h1>قيادة مركبة دون توافر التجهيزات اللازمة، مثل المكابح والأنوار وما في حكمهما.</h1>'), Document(metadata={}, page_content='<p>الغرامة المالية 1000 - 2000 ريال</p>'), Document(metadata={}, page_content='<h1>زيادة أبعاد الحمولة المنقولة لمركبات النقل الخفيف على الحد المسموح به.</h1>'), Document(metadata={}, page_content='<p>الغرامة المالية 500 - 900 ريال</p>'), Document(metadata={}, page_content='<h1>قيادة المركبة برخصة قيادة لا تتناسب مع حجم المركبة ونوع استخدامها.</h1>'), Document(metadata={}, page_content='<p>الغرامة المالية 1000 - 2000 ريال</p>'), Document(metadata={}, page_content='<h1>القيام بأعمال الطرق قبل التنسيق مع الإدارة المختصة.</h1>'), Document(metadata={}, page_content='<p>الغرامة المالية 5000 - 10000 ريال</p>'), Document(metadata={}, page_content='<h1>المراوغة بسرعة بين المركبات على الطرق العامة.</h1>\\n<p>الغرامة المالية 3000 - 6000 ريال</p>'), Document(metadata={}, page_content='<h1>عدم وجود إنارة جانبية أو عواكس أو سواتر للشاحنات والمقطورات.</h1>'), Document(metadata={}, page_content='<p>الغرامة المالية 1000 - 2000 ريال</p>'), Document(metadata={}, page_content='<h1>قيادة المركبة قبل الحصول على رخصة قيادة أو في حال سحب الرخصة.</h1>'), Document(metadata={}, page_content='<p>الغرامة المالية 1000 - 2000 ريال</p>'), Document(metadata={}, page_content='<h1>قيادة المركبة داخل الأنفاق من غير إضاءة أنوارها.</h1>\\n<p>الغرامة المالية 500 - 900 ريال</p>'), Document(metadata={}, page_content='<h1>عدم إعطاء أفضلية المرور في ملتقيات الطرق أو تقاطعاتها لسائق المركبة المتقدم على غيره في حال عدم'), Document(metadata={}, page_content='على غيره في حال عدم وجود لوحات تنظم ذلك.</h1>'), Document(metadata={}, page_content='<p>الغرامة المالية 500 - 900 ريال</p>'), Document(metadata={}, page_content='<h1>قيام سائق مركبة الطوارئ باستعمال المنبهات الخاصة بها من غير ضرورة.</h1>'), Document(metadata={}, page_content='<p>الغرامة المالية 500 - 900 ريال</p>'), Document(metadata={}, page_content='<h1>عدم تثبيت اللوحة في مكانها المخصص.</h1>\\n<p>الغرامة المالية 1000 - 2000 ريال</p>'), Document(metadata={}, page_content='<h1>العبث بعلامات الطريق أو العاكسات أو الشاحنات المنظمة لحركة السير.</h1>'), Document(metadata={}, page_content='<p>الغرامة المالية 3000 - 6000 ريال</p>'), Document(metadata={}, page_content='<h1>عدم استخدام إشارة الالتفاف عند التحول لليمين أو اليسار أو التجاوز أو تغيير المسار.</h1>'), Document(metadata={}, page_content='<p>الغرامة المالية 150 - 300 ريال</p>'), Document(metadata={}, page_content='<h1>قيادة المركبة بالاتجاه المعاكس لحركة السير.</h1>\\n<p>الغرامة المالية 3000 - 6000 ريال</p>'), Document(metadata={}, page_content='<h1>سماح أصحاب الحيوانات بعبور حيواناتهم من غير الأماكن المخصصة لها، أو دون التنسيق مع الجهات'), Document(metadata={}, page_content='التنسيق مع الجهات المختصة.</h1>'), Document(metadata={}, page_content='<p>الغرامة المالية 5000 - 10000 ريال</p>'), Document(metadata={}, page_content='<h1>الرجوع إلى الخلف في الطريق العام لمسافة تزيد على عشرين متراً.</h1>'), Document(metadata={}, page_content='<p>الغرامة المالية 150 - 300 ريال</p>'), Document(metadata={}, page_content='<h1>تظليل زجاج المركبة دون التقيد بالضوابط التي تضعها الإدارة المختصة.</h1>'), Document(metadata={}, page_content='<p>الغرامة المالية 500 - 900 ريال</p>'), Document(metadata={}, page_content='<h1>عدم ترك السائق مسافة كافية بين مركبته والمركبة التي أمامه، تسمح له بتفادي وقوع حادث.</h1>'), Document(metadata={}, page_content='<p>الغرامة المالية 150 - 300 ريال</p>'), Document(metadata={}, page_content='<h1>عدم قيام السائق في حال تغيير اتجاهه بالدوران للخلف بإعطاء أفضلية المرور للمركبات القادمة من'), Document(metadata={}, page_content='للمركبات القادمة من الاتجاهات الأخرى.</h1>'), Document(metadata={}, page_content='<p>الغرامة المالية 500 - 900 ريال</p>'), Document(metadata={}, page_content='<h1>تسيير مركبات الأشغال العامة على الطرق قبل اتخاذ الإجراءات اللازمة لتلافي أضرارها، بما في ذلك عدم'), Document(metadata={}, page_content='بما في ذلك عدم وضع الشرائح العاكسة على جانبي مؤخرة المركبة.</h1>'), Document(metadata={}, page_content='<p>الغرامة المالية 3000 - 6000 ريال</p>'), Document(metadata={}, page_content='<h1>عدم إنهاء إجراءات تعديل مجال استعمال المركبة.</h1>\\n<p>الغرامة المالية 1000 - 2000 ريال</p>'), Document(metadata={}, page_content='<h1>استخدام أجهزة غير مصرح بها في المركبة أو وضع شعارات أو ملصقات تتنافى مع الآداب العامة.</h1>'), Document(metadata={}, page_content='<p>الغرامة المالية 3000 - 6000 ريال</p>'), Document(metadata={}, page_content='<h1>عدم استخدام مقاعد الأمان المخصصة للأطفال.</h1>\\n<p>الغرامة المالية 300 - 500 ريال</p>'), Document(metadata={}, page_content='<h1>عدم إعطاء الأفضلية للمركبات التي بداخل الدوار من قبل المركبات التي خارجه في حالة عدم وجود إشارات'), Document(metadata={}, page_content='عدم وجود إشارات ضوئية أو رجل أمن يوجه السير.</h1>'), Document(metadata={}, page_content='<p>الغرامة المالية 500 - 900 ريال</p>'), Document(metadata={}, page_content='<h1>التجاوز في المناطق التي يمنع فيها التجاوز، مثل المنعطفات والمرتفعات.</h1>'), Document(metadata={}, page_content='<p>الغرامة المالية 1000 - 2000 ريال</p>'), Document(metadata={}, page_content='<h1>نقل عدد من الركاب يزيد على العدد المحدد في رخصة السير.</h1>'), Document(metadata={}, page_content='<p>الغرامة المالية 1000 - 2000 ريال</p>'), Document(metadata={}, page_content='<h1>استخدام لوحات غير عائدة للمركبة.</h1>\\n<p>الغرامة المالية 5000 - 10000 ريال</p>'), Document(metadata={}, page_content='<h1>عدم إخراج المركبة المعدة للتصدير خلال المدة المحددة.</h1>'), Document(metadata={}, page_content='<p>الغرامة المالية 1000 - 2000 ريال</p>'), Document(metadata={}, page_content='<h1>تسيير مركبة تحدث تلويثاً للبيئة على الطرق العامة.</h1>\\n<p>الغرامة المالية 500 - 900 ريال</p>'), Document(metadata={}, page_content='<h1>استعمال المكابح (الفرامل) بشكل مفاجئ لغير ضرورة.</h1>\\n<p>الغرامة المالية 300 - 500 ريال</p>'), Document(metadata={}, page_content='<h1>قيادة المركبة بلوحات غير واضحة أو بها تلف.</h1>\\n<p>الغرامة المالية 1000 - 2000 ريال</p>'), Document(metadata={}, page_content='<h1>القيادة على الطريق بمركبات مخصصة للاقتناء.</h1>\\n<p>الغرامة المالية 500 - 900 ريال</p>'), Document(metadata={}, page_content='<h1>عبور المشاة للطرق السريعة.</h1>\\n<p>الغرامة المالية 1000 - 2000 ريال</p>'), Document(metadata={}, page_content='<h1>القيادة برخصة قيادة صلاحيتها منتهية.</h1>\\n<p>الغرامة المالية 300 - 500 ريال</p>'), Document(metadata={}, page_content='<h1>التجمهر في موقع الحادث.</h1>\\n<p>الغرامة المالية 150 - 300 ريال</p>'), Document(metadata={}, page_content='<h1>المجازفة بعبور الأودية والشعاب أثناء جريانها.</h1>\\n<p>الغرامة المالية 5000 - 10000 ريال</p>'), Document(metadata={}, page_content='<h1>عدم تقديم المركبة للفحص الفني الدوري.</h1>\\n<p>الغرامة المالية 150 - 300 ريال</p>'), Document(metadata={}, page_content='<h1>استخدام السائق بيده أي جهاز محمول أثناء سير المركبة.</h1>\\n<p>الغرامة المالية 500 - 900 ريال</p>'), Document(metadata={}, page_content='<h1>عدم اتخاذ الاحتياطات اللازمة عند إيقاف المركبة في حالات الطوارئ على الطرق العامة.</h1>'), Document(metadata={}, page_content='<p>الغرامة المالية 300 - 500 ريال</p>'), Document(metadata={}, page_content='<h1>عدم التقيد بتنظيمات السير عند تقاطعات الطرق.</h1>\\n<p>الغرامة المالية 300 - 500 ريال</p>'), Document(metadata={}, page_content='<h1>إجراء سباق للمركبات على الطرق العامة، أو السير في مواكب دون الحصول على تصريح.</h1>'), Document(metadata={}, page_content='<p>الغرامة المالية 3000 - 6000 ريال</p>'), Document(metadata={}, page_content='<h1>عدم قيام السائق في حال إغلاق جزء من الطريق بإعطاء الأفضلية لمن كان طريقه مفتوحاً.</h1>'), Document(metadata={}, page_content='<p>الغرامة المالية 500 - 900 ريال</p>'), Document(metadata={}, page_content='<h1>عدم الوقوف تماماً عند إشارة قف.</h1>\\n<p>الغرامة المالية 500 - 900 ريال</p>'), Document(metadata={}, page_content='<h1>عدم قيام أصحاب الحيوانات بإبعادها عن حرم الطريق المعتمد.</h1>'), Document(metadata={}, page_content='<p>الغرامة المالية 3000 - 6000 ريال</p>'), Document(metadata={}, page_content='<h1>وضع حواجز داخل المركبة أو خارجها تعوق رؤية السائق.</h1>\\n<p>الغرامة المالية 150 - 300 ريال</p>'), Document(metadata={}, page_content='<h1>سير المركبة بلا لوحة خلفية، أو بلا لوحات.</h1>\\n<p>الغرامة المالية 3000 - 6000 ريال</p>'), Document(metadata={}, page_content='<h1>عبور المشاة للطرق من غير الأماكن المخصصة لهم.</h1>\\n<p>الغرامة المالية 100 - 150 ريال</p>'), Document(metadata={}, page_content='<h1>استخدام لوحات غير صادرة من الإدارة المختصة.</h1>\\n<p>الغرامة المالية 1000 - 2000 ريال</p>'), Document(metadata={}, page_content='<h1>عدم التزام الشاحنات والمعدات الثقيلة بالسير في المسار الآمن في الطريق المتعدد المسارات.</h1>'), Document(metadata={}, page_content='<p>الغرامة المالية 3000 - 6000 ريال</p>'), Document(metadata={}, page_content='<h1>إحداث ضوضاء باستعمال أجهزة من داخل المركبة، أو ارتكاب أي سلوك يتنافى مع الآداب العامة أثناء'), Document(metadata={}, page_content='الآداب العامة أثناء القيادة.</h1>'), Document(metadata={}, page_content='<p>الغرامة المالية 300 - 500 ريال</p>'), Document(metadata={}, page_content='<h1>إجراء أي تعديل أو إضافة على جسم المركبة أو هيكلها، يغير معالمها أو تجهيزاتها الأساسية دون اتخاذ'), Document(metadata={}, page_content='الأساسية دون اتخاذ الإجراءات النظامية.</h1>'), Document(metadata={}, page_content='<p>الغرامة المالية 1000 - 2000 ريال</p>'), Document(metadata={}, page_content='<h1>عدم حمل رخصة القيادة أو رخصة السير أثناء القيادة.</h1>\\n<p>الغرامة المالية 150 - 300 ريال</p>'), Document(metadata={}, page_content='<h1>عدم تغطية الحمولة المنقولة وتثبيتها.</h1>\\n<p>الغرامة المالية 500 - 900 ريال</p>'), Document(metadata={}, page_content='<h1>مخالفة تنظيمات السير على الطرق.</h1>\\n<p>الغرامة المالية 150 - 300 ريال</p>'), Document(metadata={}, page_content='<h1>عدم وجود تأمين ساري للمركبة.</h1>\\n<p>الغرامة المالية 100 - 150 ريال</p>'), Document(metadata={}, page_content='<h1>عدم توافر المتطلبات النظامية للمقطورة.</h1>\\n<p>الغرامة المالية 150 - 300 ريال</p>'), Document(metadata={}, page_content='<h1>عدم إعطاء الأفضلية للمركبة القادمة من اليمين عند الوصول إلى تقاطع متساوي الأفضلية في آن واحد'), Document(metadata={}, page_content='الأفضلية في آن واحد وعندما لا يكون هناك إشارات أولوية.</h1>'), Document(metadata={}, page_content='<p>الغرامة المالية 500 - 900 ريال</p>'), Document(metadata={}, page_content='<h1>ترك أجسام على الطرق العامة تعرض السلامة العامة للخطر.</h1>'), Document(metadata={}, page_content='<p>الغرامة المالية 1000 - 2000 ريال</p>'), Document(metadata={}, page_content='<h1>سير المركبة بلا لوحة أمامية.</h1>\\n<p>الغرامة المالية 1000 - 2000 ريال</p>'), Document(metadata={}, page_content='<h1>إساءة استعمال منبه المركبة.</h1>\\n<p>الغرامة المالية 150 - 300 ريال</p>'), Document(metadata={}, page_content='<h1>ترك الأطفال دون سن العاشرة في المركبة دون مرافق راشد.</h1>\\n<p>الغرامة المالية 300 - 500 ريال</p>'), Document(metadata={}, page_content='<h1>الوقوف على خطوط السكة الحديدية.</h1>\\n<p>الغرامة المالية 1000 - 2000 ريال</p>'), Document(metadata={}, page_content='<h1>ترك المركبة في طريق منحدرة مع عدم اتخاذ الاحتياطات اللازمة.</h1>'), Document(metadata={}, page_content='<p>الغرامة المالية 300 - 500 ريال</p>'), Document(metadata={}, page_content='<h1>رمي أجسام خارج المركبة.</h1>\\n<p>الغرامة المالية 300 - 500 ريال</p>'), Document(metadata={}, page_content='<h1>عدم تقيد المشاة بالإشارات الخاصة بهم.</h1>\\n<p>الغرامة المالية 100 - 150 ريال</p>'), Document(metadata={}, page_content='<h1>عدم ارتداء الخوذة أثناء قيادة الدراجة الآلية.</h1>\\n<p>الغرامة المالية 1000 - 2000 ريال</p>'), Document(metadata={}, page_content='<h1>وقوف المركبة في أماكن غير مخصصة للوقوف.</h1>\\n<p>الغرامة المالية 100 - 150 ريال</p>'), Document(metadata={}, page_content='<h1>ملاحقة مركبات الطوارئ أثناء استعمال المنبهات الخاصة بها.</h1>'), Document(metadata={}, page_content='<p>الغرامة المالية 500 - 900 ريال</p>'), Document(metadata={}, page_content='<h1>وضع كتابة أو رسم أو ملصق أو أي بيان آخر على جسم المركبة دون موافقة الجهات المختصة.</h1>'), Document(metadata={}, page_content='<p>الغرامة المالية 500 - 900 ريال</p>'), Document(metadata={}, page_content='<h1>التباطؤ في السير على نحو يعرقل الحركة.</h1>\\n<p>الغرامة المالية 300 - 500 ريال</p>'), Document(metadata={}, page_content='<h1>عدم إعطاء أفضلية المرور للمركبات القادمة من طريق رئيسي في حالة تقاطعها مع طريق فرعي أو طريق'), Document(metadata={}, page_content='طريق فرعي أو طريق ترابي.</h1>'), Document(metadata={}, page_content='<p>الغرامة المالية 500 - 900 ريال</p>'), Document(metadata={}, page_content='<h1>النزول أو الركوب أثناء سير المركبات.</h1>\\n<p>الغرامة المالية 1000 - 2000 ريال</p>'), Document(metadata={}, page_content='<h1>مخالفة قواعد استعمال أنوار التلاقي.</h1>\\n<p>الغرامة المالية 150 - 300 ريال</p>'), Document(metadata={}, page_content='<h1>تجاوز حافلات النقل المدرسي عند توقفها للتحميل أو التنزيل.</h1>'), Document(metadata={}, page_content='<p>الغرامة المالية 3000 - 6000 ريال</p>'), Document(metadata={}, page_content='<h1>عدم الوقوف عند مراكز الضبط الأمني أو نقاط التفتيش أو عدم الوقوف للدورية الأمنية عند وجود توجيه'), Document(metadata={}, page_content='عند وجود توجيه أو علامة توجب الوقوف.</h1>'), Document(metadata={}, page_content='<p>الغرامة المالية 3000 - 6000 ريال</p>')]",
          "traceback": [
            "\u001b[0;31m---------------------------------------------------------------------------\u001b[0m",
            "\u001b[0;31mValueError\u001b[0m                                Traceback (most recent call last)",
            "\u001b[0;32m<ipython-input-170-f6ebf9efc47b>\u001b[0m in \u001b[0;36m<cell line: 3>\u001b[0;34m()\u001b[0m\n\u001b[1;32m      1\u001b[0m \u001b[0;32mfrom\u001b[0m \u001b[0mlangchain\u001b[0m\u001b[0;34m.\u001b[0m\u001b[0membeddings\u001b[0m \u001b[0;32mimport\u001b[0m \u001b[0mHuggingFaceEmbeddings\u001b[0m\u001b[0;34m\u001b[0m\u001b[0;34m\u001b[0m\u001b[0m\n\u001b[1;32m      2\u001b[0m \u001b[0membeddings\u001b[0m \u001b[0;34m=\u001b[0m \u001b[0mHuggingFaceEmbeddings\u001b[0m\u001b[0;34m(\u001b[0m\u001b[0mmodel_name\u001b[0m\u001b[0;34m=\u001b[0m\u001b[0;34m\"asafaya/bert-base-arabic\"\u001b[0m\u001b[0;34m)\u001b[0m\u001b[0;34m\u001b[0m\u001b[0;34m\u001b[0m\u001b[0m\n\u001b[0;32m----> 3\u001b[0;31m \u001b[0mdb\u001b[0m \u001b[0;34m=\u001b[0m \u001b[0mChroma\u001b[0m\u001b[0;34m(\u001b[0m\u001b[0mtext\u001b[0m\u001b[0;34m,\u001b[0m\u001b[0membedding_function\u001b[0m\u001b[0;34m=\u001b[0m\u001b[0membedding_function\u001b[0m\u001b[0;34m,\u001b[0m \u001b[0mpersist_directory\u001b[0m\u001b[0;34m=\u001b[0m\u001b[0;34m\"./chroma_db\"\u001b[0m\u001b[0;34m)\u001b[0m\u001b[0;34m\u001b[0m\u001b[0;34m\u001b[0m\u001b[0m\n\u001b[0m\u001b[1;32m      4\u001b[0m \u001b[0;31m# \"aubmindlab/bert-large-arabertv02\" # embedding\u001b[0m\u001b[0;34m\u001b[0m\u001b[0;34m\u001b[0m\u001b[0m\n",
            "\u001b[0;32m/usr/local/lib/python3.10/dist-packages/langchain_core/_api/deprecation.py\u001b[0m in \u001b[0;36mwarn_if_direct_instance\u001b[0;34m(self, *args, **kwargs)\u001b[0m\n\u001b[1;32m    213\u001b[0m                         \u001b[0mwarned\u001b[0m \u001b[0;34m=\u001b[0m \u001b[0;32mTrue\u001b[0m\u001b[0;34m\u001b[0m\u001b[0;34m\u001b[0m\u001b[0m\n\u001b[1;32m    214\u001b[0m                         \u001b[0memit_warning\u001b[0m\u001b[0;34m(\u001b[0m\u001b[0;34m)\u001b[0m\u001b[0;34m\u001b[0m\u001b[0;34m\u001b[0m\u001b[0m\n\u001b[0;32m--> 215\u001b[0;31m                     \u001b[0;32mreturn\u001b[0m \u001b[0mwrapped\u001b[0m\u001b[0;34m(\u001b[0m\u001b[0mself\u001b[0m\u001b[0;34m,\u001b[0m \u001b[0;34m*\u001b[0m\u001b[0margs\u001b[0m\u001b[0;34m,\u001b[0m \u001b[0;34m**\u001b[0m\u001b[0mkwargs\u001b[0m\u001b[0;34m)\u001b[0m\u001b[0;34m\u001b[0m\u001b[0;34m\u001b[0m\u001b[0m\n\u001b[0m\u001b[1;32m    216\u001b[0m \u001b[0;34m\u001b[0m\u001b[0m\n\u001b[1;32m    217\u001b[0m                 obj.__init__ = functools.wraps(obj.__init__)(  # type: ignore[misc]\n",
            "\u001b[0;32m/usr/local/lib/python3.10/dist-packages/langchain_community/vectorstores/chroma.py\u001b[0m in \u001b[0;36m__init__\u001b[0;34m(self, collection_name, embedding_function, persist_directory, client_settings, collection_metadata, client, relevance_score_fn)\u001b[0m\n\u001b[1;32m    126\u001b[0m \u001b[0;34m\u001b[0m\u001b[0m\n\u001b[1;32m    127\u001b[0m         \u001b[0mself\u001b[0m\u001b[0;34m.\u001b[0m\u001b[0m_embedding_function\u001b[0m \u001b[0;34m=\u001b[0m \u001b[0membedding_function\u001b[0m\u001b[0;34m\u001b[0m\u001b[0;34m\u001b[0m\u001b[0m\n\u001b[0;32m--> 128\u001b[0;31m         self._collection = self._client.get_or_create_collection(\n\u001b[0m\u001b[1;32m    129\u001b[0m             \u001b[0mname\u001b[0m\u001b[0;34m=\u001b[0m\u001b[0mcollection_name\u001b[0m\u001b[0;34m,\u001b[0m\u001b[0;34m\u001b[0m\u001b[0;34m\u001b[0m\u001b[0m\n\u001b[1;32m    130\u001b[0m             \u001b[0membedding_function\u001b[0m\u001b[0;34m=\u001b[0m\u001b[0;32mNone\u001b[0m\u001b[0;34m,\u001b[0m\u001b[0;34m\u001b[0m\u001b[0;34m\u001b[0m\u001b[0m\n",
            "\u001b[0;32m/usr/local/lib/python3.10/dist-packages/chromadb/api/client.py\u001b[0m in \u001b[0;36mget_or_create_collection\u001b[0;34m(self, name, configuration, metadata, embedding_function, data_loader)\u001b[0m\n\u001b[1;32m    164\u001b[0m         \u001b[0mdata_loader\u001b[0m\u001b[0;34m:\u001b[0m \u001b[0mOptional\u001b[0m\u001b[0;34m[\u001b[0m\u001b[0mDataLoader\u001b[0m\u001b[0;34m[\u001b[0m\u001b[0mLoadable\u001b[0m\u001b[0;34m]\u001b[0m\u001b[0;34m]\u001b[0m \u001b[0;34m=\u001b[0m \u001b[0;32mNone\u001b[0m\u001b[0;34m,\u001b[0m\u001b[0;34m\u001b[0m\u001b[0;34m\u001b[0m\u001b[0m\n\u001b[1;32m    165\u001b[0m     ) -> Collection:\n\u001b[0;32m--> 166\u001b[0;31m         model = self._server.get_or_create_collection(\n\u001b[0m\u001b[1;32m    167\u001b[0m             \u001b[0mname\u001b[0m\u001b[0;34m=\u001b[0m\u001b[0mname\u001b[0m\u001b[0;34m,\u001b[0m\u001b[0;34m\u001b[0m\u001b[0;34m\u001b[0m\u001b[0m\n\u001b[1;32m    168\u001b[0m             \u001b[0mmetadata\u001b[0m\u001b[0;34m=\u001b[0m\u001b[0mmetadata\u001b[0m\u001b[0;34m,\u001b[0m\u001b[0;34m\u001b[0m\u001b[0;34m\u001b[0m\u001b[0m\n",
            "\u001b[0;32m/usr/local/lib/python3.10/dist-packages/chromadb/telemetry/opentelemetry/__init__.py\u001b[0m in \u001b[0;36mwrapper\u001b[0;34m(*args, **kwargs)\u001b[0m\n\u001b[1;32m    144\u001b[0m                 \u001b[0;32mglobal\u001b[0m \u001b[0mtracer\u001b[0m\u001b[0;34m,\u001b[0m \u001b[0mgranularity\u001b[0m\u001b[0;34m\u001b[0m\u001b[0;34m\u001b[0m\u001b[0m\n\u001b[1;32m    145\u001b[0m                 \u001b[0;32mif\u001b[0m \u001b[0mtrace_granularity\u001b[0m \u001b[0;34m<\u001b[0m \u001b[0mgranularity\u001b[0m\u001b[0;34m:\u001b[0m\u001b[0;34m\u001b[0m\u001b[0;34m\u001b[0m\u001b[0m\n\u001b[0;32m--> 146\u001b[0;31m                     \u001b[0;32mreturn\u001b[0m \u001b[0mf\u001b[0m\u001b[0;34m(\u001b[0m\u001b[0;34m*\u001b[0m\u001b[0margs\u001b[0m\u001b[0;34m,\u001b[0m \u001b[0;34m**\u001b[0m\u001b[0mkwargs\u001b[0m\u001b[0;34m)\u001b[0m\u001b[0;34m\u001b[0m\u001b[0;34m\u001b[0m\u001b[0m\n\u001b[0m\u001b[1;32m    147\u001b[0m                 \u001b[0;32mif\u001b[0m \u001b[0;32mnot\u001b[0m \u001b[0mtracer\u001b[0m\u001b[0;34m:\u001b[0m\u001b[0;34m\u001b[0m\u001b[0;34m\u001b[0m\u001b[0m\n\u001b[1;32m    148\u001b[0m                     \u001b[0;32mreturn\u001b[0m \u001b[0mf\u001b[0m\u001b[0;34m(\u001b[0m\u001b[0;34m*\u001b[0m\u001b[0margs\u001b[0m\u001b[0;34m,\u001b[0m \u001b[0;34m**\u001b[0m\u001b[0mkwargs\u001b[0m\u001b[0;34m)\u001b[0m\u001b[0;34m\u001b[0m\u001b[0;34m\u001b[0m\u001b[0m\n",
            "\u001b[0;32m/usr/local/lib/python3.10/dist-packages/chromadb/api/segment.py\u001b[0m in \u001b[0;36mget_or_create_collection\u001b[0;34m(self, name, configuration, metadata, tenant, database)\u001b[0m\n\u001b[1;32m    219\u001b[0m         \u001b[0mdatabase\u001b[0m\u001b[0;34m:\u001b[0m \u001b[0mstr\u001b[0m \u001b[0;34m=\u001b[0m \u001b[0mDEFAULT_DATABASE\u001b[0m\u001b[0;34m,\u001b[0m\u001b[0;34m\u001b[0m\u001b[0;34m\u001b[0m\u001b[0m\n\u001b[1;32m    220\u001b[0m     ) -> CollectionModel:\n\u001b[0;32m--> 221\u001b[0;31m         return self.create_collection(\n\u001b[0m\u001b[1;32m    222\u001b[0m             \u001b[0mname\u001b[0m\u001b[0;34m=\u001b[0m\u001b[0mname\u001b[0m\u001b[0;34m,\u001b[0m\u001b[0;34m\u001b[0m\u001b[0;34m\u001b[0m\u001b[0m\n\u001b[1;32m    223\u001b[0m             \u001b[0mmetadata\u001b[0m\u001b[0;34m=\u001b[0m\u001b[0mmetadata\u001b[0m\u001b[0;34m,\u001b[0m\u001b[0;34m\u001b[0m\u001b[0;34m\u001b[0m\u001b[0m\n",
            "\u001b[0;32m/usr/local/lib/python3.10/dist-packages/chromadb/telemetry/opentelemetry/__init__.py\u001b[0m in \u001b[0;36mwrapper\u001b[0;34m(*args, **kwargs)\u001b[0m\n\u001b[1;32m    144\u001b[0m                 \u001b[0;32mglobal\u001b[0m \u001b[0mtracer\u001b[0m\u001b[0;34m,\u001b[0m \u001b[0mgranularity\u001b[0m\u001b[0;34m\u001b[0m\u001b[0;34m\u001b[0m\u001b[0m\n\u001b[1;32m    145\u001b[0m                 \u001b[0;32mif\u001b[0m \u001b[0mtrace_granularity\u001b[0m \u001b[0;34m<\u001b[0m \u001b[0mgranularity\u001b[0m\u001b[0;34m:\u001b[0m\u001b[0;34m\u001b[0m\u001b[0;34m\u001b[0m\u001b[0m\n\u001b[0;32m--> 146\u001b[0;31m                     \u001b[0;32mreturn\u001b[0m \u001b[0mf\u001b[0m\u001b[0;34m(\u001b[0m\u001b[0;34m*\u001b[0m\u001b[0margs\u001b[0m\u001b[0;34m,\u001b[0m \u001b[0;34m**\u001b[0m\u001b[0mkwargs\u001b[0m\u001b[0;34m)\u001b[0m\u001b[0;34m\u001b[0m\u001b[0;34m\u001b[0m\u001b[0m\n\u001b[0m\u001b[1;32m    147\u001b[0m                 \u001b[0;32mif\u001b[0m \u001b[0;32mnot\u001b[0m \u001b[0mtracer\u001b[0m\u001b[0;34m:\u001b[0m\u001b[0;34m\u001b[0m\u001b[0;34m\u001b[0m\u001b[0m\n\u001b[1;32m    148\u001b[0m                     \u001b[0;32mreturn\u001b[0m \u001b[0mf\u001b[0m\u001b[0;34m(\u001b[0m\u001b[0;34m*\u001b[0m\u001b[0margs\u001b[0m\u001b[0;34m,\u001b[0m \u001b[0;34m**\u001b[0m\u001b[0mkwargs\u001b[0m\u001b[0;34m)\u001b[0m\u001b[0;34m\u001b[0m\u001b[0;34m\u001b[0m\u001b[0m\n",
            "\u001b[0;32m/usr/local/lib/python3.10/dist-packages/chromadb/api/segment.py\u001b[0m in \u001b[0;36mcreate_collection\u001b[0;34m(self, name, configuration, metadata, get_or_create, tenant, database)\u001b[0m\n\u001b[1;32m    158\u001b[0m \u001b[0;34m\u001b[0m\u001b[0m\n\u001b[1;32m    159\u001b[0m         \u001b[0;31m# TODO: remove backwards compatibility in naming requirements\u001b[0m\u001b[0;34m\u001b[0m\u001b[0;34m\u001b[0m\u001b[0m\n\u001b[0;32m--> 160\u001b[0;31m         \u001b[0mcheck_index_name\u001b[0m\u001b[0;34m(\u001b[0m\u001b[0mname\u001b[0m\u001b[0;34m)\u001b[0m\u001b[0;34m\u001b[0m\u001b[0;34m\u001b[0m\u001b[0m\n\u001b[0m\u001b[1;32m    161\u001b[0m \u001b[0;34m\u001b[0m\u001b[0m\n\u001b[1;32m    162\u001b[0m         \u001b[0mid\u001b[0m \u001b[0;34m=\u001b[0m \u001b[0muuid4\u001b[0m\u001b[0;34m(\u001b[0m\u001b[0;34m)\u001b[0m\u001b[0;34m\u001b[0m\u001b[0;34m\u001b[0m\u001b[0m\n",
            "\u001b[0;32m/usr/local/lib/python3.10/dist-packages/chromadb/api/segment.py\u001b[0m in \u001b[0;36mcheck_index_name\u001b[0;34m(index_name)\u001b[0m\n\u001b[1;32m     71\u001b[0m     )\n\u001b[1;32m     72\u001b[0m     \u001b[0;32mif\u001b[0m \u001b[0mlen\u001b[0m\u001b[0;34m(\u001b[0m\u001b[0mindex_name\u001b[0m\u001b[0;34m)\u001b[0m \u001b[0;34m<\u001b[0m \u001b[0;36m3\u001b[0m \u001b[0;32mor\u001b[0m \u001b[0mlen\u001b[0m\u001b[0;34m(\u001b[0m\u001b[0mindex_name\u001b[0m\u001b[0;34m)\u001b[0m \u001b[0;34m>\u001b[0m \u001b[0;36m63\u001b[0m\u001b[0;34m:\u001b[0m\u001b[0;34m\u001b[0m\u001b[0;34m\u001b[0m\u001b[0m\n\u001b[0;32m---> 73\u001b[0;31m         \u001b[0;32mraise\u001b[0m \u001b[0mValueError\u001b[0m\u001b[0;34m(\u001b[0m\u001b[0mmsg\u001b[0m\u001b[0;34m)\u001b[0m\u001b[0;34m\u001b[0m\u001b[0;34m\u001b[0m\u001b[0m\n\u001b[0m\u001b[1;32m     74\u001b[0m     \u001b[0;32mif\u001b[0m \u001b[0;32mnot\u001b[0m \u001b[0mre\u001b[0m\u001b[0;34m.\u001b[0m\u001b[0mmatch\u001b[0m\u001b[0;34m(\u001b[0m\u001b[0;34m\"^[a-zA-Z0-9][a-zA-Z0-9._-]*[a-zA-Z0-9]$\"\u001b[0m\u001b[0;34m,\u001b[0m \u001b[0mindex_name\u001b[0m\u001b[0;34m)\u001b[0m\u001b[0;34m:\u001b[0m\u001b[0;34m\u001b[0m\u001b[0;34m\u001b[0m\u001b[0m\n\u001b[1;32m     75\u001b[0m         \u001b[0;32mraise\u001b[0m \u001b[0mValueError\u001b[0m\u001b[0;34m(\u001b[0m\u001b[0mmsg\u001b[0m\u001b[0;34m)\u001b[0m\u001b[0;34m\u001b[0m\u001b[0;34m\u001b[0m\u001b[0m\n",
            "\u001b[0;31mValueError\u001b[0m: Expected collection name that (1) contains 3-63 characters, (2) starts and ends with an alphanumeric character, (3) otherwise contains only alphanumeric characters, underscores or hyphens (-), (4) contains no two consecutive periods (..) and (5) is not a valid IPv4 address, got [Document(metadata={}, page_content='<h1>طمس لوحات المركبة.</h1>\\n<p>الغرامة المالية 3000 - 6000 ريال</p>'), Document(metadata={}, page_content='<h1>قيادة المركبة في الأسواق التي لا يسمح بالقيادة فيها.</h1>\\n<p>الغرامة المالية 100 - 150 ريال</p>'), Document(metadata={}, page_content='<h1>عدم ربط حزام الأمان.</h1>\\n<p>الغرامة المالية 150 - 300 ريال</p>'), Document(metadata={}, page_content='<h1>استعمال المركبة لغير الغرض الذي رخصت من أجله.</h1>\\n<p>الغرامة المالية 500 - 900 ريال</p>'), Document(metadata={}, page_content='<h1>القيادة على أكتاف الطريق وعلى الأرصفة أو المسارات التي يمنع القيادة فيها.</h1>'), Document(metadata={}, page_content='<p>الغرامة المالية 1000 - 2000 ريال</p>'), Document(metadata={}, page_content='<h1>عدم قيام السائق الذي يرغب في تغيير مساره بإعطاء الأفضلية لسائق المركبة التي تسير في اتجاه مستقيم'), Document(metadata={}, page_content='في اتجاه مستقيم في حال سير المركبتين متحاذيتين بشكل متواز.</h1>'), Document(metadata={}, page_content='<p>الغرامة المالية 500 - 900 ريال</p>'), Document(metadata={}, page_content='<h1>نقل الركاب في الأماكن غير المخصصة لهم في المركبة.</h1>\\n<p>الغرامة المالية 500 - 900 ريال</p>'), Document(metadata={}, page_content='<h1>قيام ال..."
          ]
        }
      ],
      "source": [
        "from langchain.embeddings import HuggingFaceEmbeddings\n",
        "embeddings = HuggingFaceEmbeddings(model_name=\"asafaya/bert-base-arabic\")\n",
        "db = Chroma(text,embedding_function, persist_directory=\"./chroma_db\")\n",
        "# \"aubmindlab/bert-large-arabertv02\" # embedding"
      ]
    },
    {
      "cell_type": "markdown",
      "metadata": {
        "id": "l32elHl2L-ob"
      },
      "source": [
        "# Step 6: Define the RAG Prompt Template"
      ]
    },
    {
      "cell_type": "markdown",
      "metadata": {
        "id": "X1zWp3KfMAld"
      },
      "source": [
        "Define a custom prompt template in Arabic to retrieve traffic violation-related answers based on the context. Ensure the template encourages the model to give **advice** in **Arabic**, staying within the context provided."
      ]
    },
    {
      "cell_type": "code",
      "execution_count": null,
      "metadata": {
        "id": "gdy4qbn_CYTn"
      },
      "outputs": [],
      "source": [
        "PROMPT_TEMPLATE=\"\"\"\n",
        "Answer the question based only on the following context:\n",
        "Context: {context_text}\n",
        "Question: {query}\n",
        "Your answer:\n",
        "\"\"\"\n",
        "\n",
        "prompt_template = PromptTemplate(\n",
        "    template=PROMPT_TEMPLATE, input_variables=[\"context\", \"question\"]\n",
        ")"
      ]
    },
    {
      "cell_type": "markdown",
      "metadata": {
        "id": "IvfcCIjgMG34"
      },
      "source": [
        "## Step 7: Initialize the Language Model"
      ]
    },
    {
      "cell_type": "markdown",
      "metadata": {
        "id": "_lvHUsNTMIvX"
      },
      "source": [
        "Initialize the language model using the Groq API. Set up the model with a specific configuration, including the API key, temperature setting, and model name."
      ]
    },
    {
      "cell_type": "code",
      "source": [
        "!pip install langchain_groq"
      ],
      "metadata": {
        "collapsed": true,
        "id": "DhEtF7bbEn9r"
      },
      "execution_count": null,
      "outputs": []
    },
    {
      "cell_type": "code",
      "source": [
        "groq_api_key = \"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\""
      ],
      "metadata": {
        "id": "zOphkd_iB4_8"
      },
      "execution_count": null,
      "outputs": []
    },
    {
      "cell_type": "code",
      "source": [
        "from langchain_groq import ChatGroq\n",
        "\n",
        "llm = ChatGroq(\n",
        "    model=\"llama3-8b-8192\",\n",
        "    temperature=0.8,\n",
        "    max_retries=2,\n",
        "    api_key=groq_api_key\n",
        ")"
      ],
      "metadata": {
        "id": "D1_1LHYxKD3T"
      },
      "execution_count": 159,
      "outputs": []
    },
    {
      "cell_type": "markdown",
      "metadata": {
        "id": "c3T-2Fy9MLPa"
      },
      "source": [
        "## Step 8: Create the LLM Chain"
      ]
    },
    {
      "cell_type": "markdown",
      "metadata": {
        "id": "fCcrmiA2MOOi"
      },
      "source": [
        "Now, you will create an LLM Chain that combines the language model and the prompt template you defined. This chain will be used to generate responses based on the retrieved context."
      ]
    },
    {
      "cell_type": "code",
      "execution_count": null,
      "metadata": {
        "id": "j1EEjdquHrTL"
      },
      "outputs": [],
      "source": [
        "from langchain.chains import LLMChain\n",
        "MODEL = LLMChain(llm=llm,\n",
        "                 prompt=prompt_template,\n",
        "                 verbose=True)"
      ]
    },
    {
      "cell_type": "markdown",
      "metadata": {
        "id": "di48NYGQMQtS"
      },
      "source": [
        "## Step 9: Implement the Query Function"
      ]
    },
    {
      "cell_type": "markdown",
      "metadata": {
        "id": "huXN44hwMS07"
      },
      "source": [
        "Create a function `query_rag` that will take a user query as input, retrieve relevant context from the vector store, and use the language model to generate a response based on that context."
      ]
    },
    {
      "cell_type": "code",
      "execution_count": null,
      "metadata": {
        "id": "HJLrEKqzHhDy"
      },
      "outputs": [],
      "source": [
        "def query_rag(query: str):\n",
        "    similarity_search_results = db.similarity_search_with_score(query, k=4)\n",
        "    context_text = \"\\n\\n\".join([text.page_content for text, _score in similarity_search_results])\n",
        "\n",
        "    rag_response = MODEL.invoke({\"context\": context_text, \"question\": query})\n",
        "\n",
        "    return rag_response"
      ]
    },
    {
      "cell_type": "code",
      "source": [
        "response = query_rag(\"ماهي الغرامة على القيادة بدون رخصة؟\")\n",
        "response"
      ],
      "metadata": {
        "id": "NgkFtqGDDQf9"
      },
      "execution_count": null,
      "outputs": []
    },
    {
      "cell_type": "markdown",
      "metadata": {
        "id": "9iRfIjyzPLC_"
      },
      "source": [
        "## Step 10: Inference - Running Queries in the RAG System"
      ]
    },
    {
      "cell_type": "markdown",
      "metadata": {
        "id": "0iTaUjpWPOyt"
      },
      "source": [
        "In this final step, you will implement an inference pipeline to handle real-time queries. You will allow the system to retrieve the most relevant violations and fines based on a user's input and generate a response.\n",
        "\n",
        "1. Inference Workflow:\n",
        "\n",
        "  * The user inputs a query (e.g., \"ماهي الغرامة على القيادة بدون رخصة؟\").\n",
        "  * The system searches for the most relevant context from the traffic violation vector store.\n",
        "  * It generates an answer and advice based on the context.\n",
        "\n",
        "2. Goal:\n",
        "  * Run the inference to answer questions based on the traffic violation dataset."
      ]
    },
    {
      "cell_type": "code",
      "execution_count": null,
      "metadata": {
        "id": "7k4BmIAHH38X"
      },
      "outputs": [],
      "source": []
    }
  ],
  "metadata": {
    "accelerator": "GPU",
    "colab": {
      "gpuType": "T4",
      "provenance": []
    },
    "kernelspec": {
      "display_name": "Python 3",
      "name": "python3"
    },
    "language_info": {
      "name": "python"
    }
  },
  "nbformat": 4,
  "nbformat_minor": 0
}